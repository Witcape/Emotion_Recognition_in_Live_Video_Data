{
  "cells": [
    {
      "cell_type": "markdown",
      "metadata": {
        "id": "view-in-github",
        "colab_type": "text"
      },
      "source": [
        "<a href=\"https://colab.research.google.com/github/Witcape/Emotion_Recognition_in_Live_Video_Data/blob/main/Emotion_Recognition_in_Video_Data.ipynb\" target=\"_parent\"><img src=\"https://colab.research.google.com/assets/colab-badge.svg\" alt=\"Open In Colab\"/></a>"
      ]
    },
    {
      "cell_type": "markdown",
      "metadata": {
        "id": "DcLBknbhLn00"
      },
      "source": [
        "### STEP 1 - Import all the Libraries and google drive"
      ]
    },
    {
      "cell_type": "code",
      "execution_count": 1,
      "metadata": {
        "id": "HsNtUV7wy2_X"
      },
      "outputs": [],
      "source": [
        "from sympy import *\n",
        "import numpy as np\n",
        "import matplotlib.pyplot as plt\n",
        "import ipywidgets as widgets\n",
        "import sklearn\n",
        "import tensorflow as tf\n",
        "import pandas as pd\n",
        "import sklearn\n",
        "from tensorflow.keras.models import Sequential\n",
        "from tensorflow.keras.layers import Dense, Conv2D, MaxPooling2D, Flatten\n",
        "from tensorflow.keras.activations import linear,relu,sigmoid\n",
        "import cv2\n",
        "import os\n",
        "from sklearn.preprocessing import LabelEncoder, OneHotEncoder\n",
        "from tensorflow.keras.optimizers import Adam\n",
        "from keras.callbacks import EarlyStopping, ReduceLROnPlateau"
      ]
    },
    {
      "cell_type": "code",
      "execution_count": 2,
      "metadata": {
        "colab": {
          "base_uri": "https://localhost:8080/"
        },
        "id": "5aLgwauVTsBV",
        "outputId": "66ead353-23f6-420c-cad9-a0aa2b6fea6d"
      },
      "outputs": [
        {
          "output_type": "stream",
          "name": "stdout",
          "text": [
            "Mounted at /content/gdrive\n"
          ]
        }
      ],
      "source": [
        "from google.colab import drive\n",
        "drive.mount('/content/gdrive')"
      ]
    },
    {
      "cell_type": "code",
      "execution_count": null,
      "metadata": {
        "colab": {
          "base_uri": "https://localhost:8080/",
          "height": 236
        },
        "id": "8rLSeQYHTVPz",
        "outputId": "e7d60cfe-3a51-49b3-b718-a58a5fcf25e0"
      },
      "outputs": [
        {
          "output_type": "error",
          "ename": "NameError",
          "evalue": "ignored",
          "traceback": [
            "\u001b[0;31m---------------------------------------------------------------------------\u001b[0m",
            "\u001b[0;31mNameError\u001b[0m                                 Traceback (most recent call last)",
            "\u001b[0;32m<ipython-input-3-5cf0657b1e82>\u001b[0m in \u001b[0;36m<cell line: 1>\u001b[0;34m()\u001b[0m\n\u001b[0;32m----> 1\u001b[0;31m \u001b[0mloss\u001b[0m \u001b[0;34m=\u001b[0m \u001b[0mhistory\u001b[0m\u001b[0;34m.\u001b[0m\u001b[0mhistory\u001b[0m\u001b[0;34m[\u001b[0m\u001b[0;34m'loss'\u001b[0m\u001b[0;34m]\u001b[0m\u001b[0;34m\u001b[0m\u001b[0;34m\u001b[0m\u001b[0m\n\u001b[0m\u001b[1;32m      2\u001b[0m \u001b[0mepochs\u001b[0m \u001b[0;34m=\u001b[0m \u001b[0mrange\u001b[0m\u001b[0;34m(\u001b[0m\u001b[0;36m1\u001b[0m\u001b[0;34m,\u001b[0m \u001b[0mlen\u001b[0m\u001b[0;34m(\u001b[0m\u001b[0mloss\u001b[0m\u001b[0;34m)\u001b[0m \u001b[0;34m+\u001b[0m \u001b[0;36m1\u001b[0m\u001b[0;34m)\u001b[0m\u001b[0;34m\u001b[0m\u001b[0;34m\u001b[0m\u001b[0m\n\u001b[1;32m      3\u001b[0m \u001b[0;34m\u001b[0m\u001b[0m\n\u001b[1;32m      4\u001b[0m \u001b[0mplt\u001b[0m\u001b[0;34m.\u001b[0m\u001b[0mplot\u001b[0m\u001b[0;34m(\u001b[0m\u001b[0mepochs\u001b[0m\u001b[0;34m,\u001b[0m \u001b[0mloss\u001b[0m\u001b[0;34m,\u001b[0m \u001b[0mlabel\u001b[0m\u001b[0;34m=\u001b[0m\u001b[0;34m'Training Loss'\u001b[0m\u001b[0;34m)\u001b[0m\u001b[0;34m\u001b[0m\u001b[0;34m\u001b[0m\u001b[0m\n\u001b[1;32m      5\u001b[0m \u001b[0mplt\u001b[0m\u001b[0;34m.\u001b[0m\u001b[0mxlabel\u001b[0m\u001b[0;34m(\u001b[0m\u001b[0;34m'Epochs'\u001b[0m\u001b[0;34m)\u001b[0m\u001b[0;34m\u001b[0m\u001b[0;34m\u001b[0m\u001b[0m\n",
            "\u001b[0;31mNameError\u001b[0m: name 'history' is not defined"
          ]
        }
      ],
      "source": [
        "loss = history.history['loss']\n",
        "epochs = range(1, len(loss) + 1)\n",
        "\n",
        "plt.plot(epochs, loss, label='Training Loss')\n",
        "plt.xlabel('Epochs')\n",
        "plt.ylabel('Loss')\n",
        "plt.legend()\n",
        "plt.show()"
      ]
    },
    {
      "cell_type": "markdown",
      "metadata": {
        "id": "8G-RZ8UGMZ1E"
      },
      "source": [
        "## Step 2 - Loading Data & Preprocessing"
      ]
    },
    {
      "cell_type": "code",
      "execution_count": 3,
      "metadata": {
        "id": "FtdQSKfJHTy9"
      },
      "outputs": [],
      "source": [
        "train_data_dir = '/content/gdrive/MyDrive/Human emotions/train'\n",
        "test_data_dir = '/content/gdrive/MyDrive/Human emotions/test'"
      ]
    },
    {
      "cell_type": "code",
      "execution_count": 4,
      "metadata": {
        "colab": {
          "base_uri": "https://localhost:8080/"
        },
        "id": "KckQ2LmfIFBQ",
        "outputId": "e746532a-d6e4-4453-fda3-123d8dd86d50"
      },
      "outputs": [
        {
          "output_type": "stream",
          "name": "stdout",
          "text": [
            "Found 29031 files belonging to 7 classes.\n",
            "Found 7378 files belonging to 7 classes.\n"
          ]
        }
      ],
      "source": [
        "train_data = tf.keras.utils.image_dataset_from_directory(train_data_dir)\n",
        "test_data = tf.keras.utils.image_dataset_from_directory(test_data_dir)"
      ]
    },
    {
      "cell_type": "code",
      "execution_count": 5,
      "metadata": {
        "id": "7c0SXHPrLD-3"
      },
      "outputs": [],
      "source": [
        "train_data_iterator = train_data.as_numpy_iterator()\n",
        "test_data_iterator = test_data.as_numpy_iterator()"
      ]
    },
    {
      "cell_type": "code",
      "execution_count": 6,
      "metadata": {
        "id": "xF513W62MMSu"
      },
      "outputs": [],
      "source": [
        "train_batch = train_data_iterator.next()\n",
        "test_batch = test_data_iterator.next()"
      ]
    },
    {
      "cell_type": "code",
      "execution_count": 7,
      "metadata": {
        "colab": {
          "base_uri": "https://localhost:8080/"
        },
        "id": "gC0T16qwMVRx",
        "outputId": "02a0b627-2229-4fe7-bc85-d244e35295e9"
      },
      "outputs": [
        {
          "output_type": "execute_result",
          "data": {
            "text/plain": [
              "(array([[[[113., 113., 113.],\n",
              "          [113., 113., 113.],\n",
              "          [113., 113., 113.],\n",
              "          ...,\n",
              "          [ 96.,  96.,  96.],\n",
              "          [ 96.,  96.,  96.],\n",
              "          [ 96.,  96.,  96.]],\n",
              " \n",
              "         [[113., 113., 113.],\n",
              "          [113., 113., 113.],\n",
              "          [113., 113., 113.],\n",
              "          ...,\n",
              "          [ 96.,  96.,  96.],\n",
              "          [ 96.,  96.,  96.],\n",
              "          [ 96.,  96.,  96.]],\n",
              " \n",
              "         [[113., 113., 113.],\n",
              "          [113., 113., 113.],\n",
              "          [113., 113., 113.],\n",
              "          ...,\n",
              "          [ 96.,  96.,  96.],\n",
              "          [ 96.,  96.,  96.],\n",
              "          [ 96.,  96.,  96.]],\n",
              " \n",
              "         ...,\n",
              " \n",
              "         [[ 90.,  90.,  90.],\n",
              "          [ 90.,  90.,  90.],\n",
              "          [ 90.,  90.,  90.],\n",
              "          ...,\n",
              "          [ 76.,  76.,  76.],\n",
              "          [ 76.,  76.,  76.],\n",
              "          [ 76.,  76.,  76.]],\n",
              " \n",
              "         [[ 90.,  90.,  90.],\n",
              "          [ 90.,  90.,  90.],\n",
              "          [ 90.,  90.,  90.],\n",
              "          ...,\n",
              "          [ 76.,  76.,  76.],\n",
              "          [ 76.,  76.,  76.],\n",
              "          [ 76.,  76.,  76.]],\n",
              " \n",
              "         [[ 90.,  90.,  90.],\n",
              "          [ 90.,  90.,  90.],\n",
              "          [ 90.,  90.,  90.],\n",
              "          ...,\n",
              "          [ 76.,  76.,  76.],\n",
              "          [ 76.,  76.,  76.],\n",
              "          [ 76.,  76.,  76.]]],\n",
              " \n",
              " \n",
              "        [[[  0.,   0.,   0.],\n",
              "          [  0.,   0.,   0.],\n",
              "          [  0.,   0.,   0.],\n",
              "          ...,\n",
              "          [  0.,   0.,   0.],\n",
              "          [  0.,   0.,   0.],\n",
              "          [  0.,   0.,   0.]],\n",
              " \n",
              "         [[  0.,   0.,   0.],\n",
              "          [  0.,   0.,   0.],\n",
              "          [  0.,   0.,   0.],\n",
              "          ...,\n",
              "          [  0.,   0.,   0.],\n",
              "          [  0.,   0.,   0.],\n",
              "          [  0.,   0.,   0.]],\n",
              " \n",
              "         [[  0.,   0.,   0.],\n",
              "          [  0.,   0.,   0.],\n",
              "          [  0.,   0.,   0.],\n",
              "          ...,\n",
              "          [  0.,   0.,   0.],\n",
              "          [  0.,   0.,   0.],\n",
              "          [  0.,   0.,   0.]],\n",
              " \n",
              "         ...,\n",
              " \n",
              "         [[  5.,   5.,   5.],\n",
              "          [  5.,   5.,   5.],\n",
              "          [  5.,   5.,   5.],\n",
              "          ...,\n",
              "          [ 20.,  20.,  20.],\n",
              "          [ 20.,  20.,  20.],\n",
              "          [ 20.,  20.,  20.]],\n",
              " \n",
              "         [[  5.,   5.,   5.],\n",
              "          [  5.,   5.,   5.],\n",
              "          [  5.,   5.,   5.],\n",
              "          ...,\n",
              "          [ 20.,  20.,  20.],\n",
              "          [ 20.,  20.,  20.],\n",
              "          [ 20.,  20.,  20.]],\n",
              " \n",
              "         [[  5.,   5.,   5.],\n",
              "          [  5.,   5.,   5.],\n",
              "          [  5.,   5.,   5.],\n",
              "          ...,\n",
              "          [ 20.,  20.,  20.],\n",
              "          [ 20.,  20.,  20.],\n",
              "          [ 20.,  20.,  20.]]],\n",
              " \n",
              " \n",
              "        [[[ 84.,  84.,  84.],\n",
              "          [ 84.,  84.,  84.],\n",
              "          [ 84.,  84.,  84.],\n",
              "          ...,\n",
              "          [166., 166., 166.],\n",
              "          [166., 166., 166.],\n",
              "          [166., 166., 166.]],\n",
              " \n",
              "         [[ 84.,  84.,  84.],\n",
              "          [ 84.,  84.,  84.],\n",
              "          [ 84.,  84.,  84.],\n",
              "          ...,\n",
              "          [166., 166., 166.],\n",
              "          [166., 166., 166.],\n",
              "          [166., 166., 166.]],\n",
              " \n",
              "         [[ 84.,  84.,  84.],\n",
              "          [ 84.,  84.,  84.],\n",
              "          [ 84.,  84.,  84.],\n",
              "          ...,\n",
              "          [166., 166., 166.],\n",
              "          [166., 166., 166.],\n",
              "          [166., 166., 166.]],\n",
              " \n",
              "         ...,\n",
              " \n",
              "         [[ 55.,  55.,  55.],\n",
              "          [ 55.,  55.,  55.],\n",
              "          [ 55.,  55.,  55.],\n",
              "          ...,\n",
              "          [206., 206., 206.],\n",
              "          [206., 206., 206.],\n",
              "          [206., 206., 206.]],\n",
              " \n",
              "         [[ 55.,  55.,  55.],\n",
              "          [ 55.,  55.,  55.],\n",
              "          [ 55.,  55.,  55.],\n",
              "          ...,\n",
              "          [206., 206., 206.],\n",
              "          [206., 206., 206.],\n",
              "          [206., 206., 206.]],\n",
              " \n",
              "         [[ 55.,  55.,  55.],\n",
              "          [ 55.,  55.,  55.],\n",
              "          [ 55.,  55.,  55.],\n",
              "          ...,\n",
              "          [206., 206., 206.],\n",
              "          [206., 206., 206.],\n",
              "          [206., 206., 206.]]],\n",
              " \n",
              " \n",
              "        ...,\n",
              " \n",
              " \n",
              "        [[[254., 254., 254.],\n",
              "          [254., 254., 254.],\n",
              "          [254., 254., 254.],\n",
              "          ...,\n",
              "          [254., 254., 254.],\n",
              "          [254., 254., 254.],\n",
              "          [254., 254., 254.]],\n",
              " \n",
              "         [[254., 254., 254.],\n",
              "          [254., 254., 254.],\n",
              "          [254., 254., 254.],\n",
              "          ...,\n",
              "          [254., 254., 254.],\n",
              "          [254., 254., 254.],\n",
              "          [254., 254., 254.]],\n",
              " \n",
              "         [[254., 254., 254.],\n",
              "          [254., 254., 254.],\n",
              "          [254., 254., 254.],\n",
              "          ...,\n",
              "          [254., 254., 254.],\n",
              "          [254., 254., 254.],\n",
              "          [254., 254., 254.]],\n",
              " \n",
              "         ...,\n",
              " \n",
              "         [[255., 255., 255.],\n",
              "          [255., 255., 255.],\n",
              "          [255., 255., 255.],\n",
              "          ...,\n",
              "          [254., 254., 254.],\n",
              "          [254., 254., 254.],\n",
              "          [254., 254., 254.]],\n",
              " \n",
              "         [[255., 255., 255.],\n",
              "          [255., 255., 255.],\n",
              "          [255., 255., 255.],\n",
              "          ...,\n",
              "          [254., 254., 254.],\n",
              "          [254., 254., 254.],\n",
              "          [254., 254., 254.]],\n",
              " \n",
              "         [[255., 255., 255.],\n",
              "          [255., 255., 255.],\n",
              "          [255., 255., 255.],\n",
              "          ...,\n",
              "          [254., 254., 254.],\n",
              "          [254., 254., 254.],\n",
              "          [254., 254., 254.]]],\n",
              " \n",
              " \n",
              "        [[[ 96.,  96.,  96.],\n",
              "          [ 96.,  96.,  96.],\n",
              "          [ 96.,  96.,  96.],\n",
              "          ...,\n",
              "          [158., 158., 158.],\n",
              "          [158., 158., 158.],\n",
              "          [158., 158., 158.]],\n",
              " \n",
              "         [[ 96.,  96.,  96.],\n",
              "          [ 96.,  96.,  96.],\n",
              "          [ 96.,  96.,  96.],\n",
              "          ...,\n",
              "          [158., 158., 158.],\n",
              "          [158., 158., 158.],\n",
              "          [158., 158., 158.]],\n",
              " \n",
              "         [[ 96.,  96.,  96.],\n",
              "          [ 96.,  96.,  96.],\n",
              "          [ 96.,  96.,  96.],\n",
              "          ...,\n",
              "          [158., 158., 158.],\n",
              "          [158., 158., 158.],\n",
              "          [158., 158., 158.]],\n",
              " \n",
              "         ...,\n",
              " \n",
              "         [[ 68.,  68.,  68.],\n",
              "          [ 68.,  68.,  68.],\n",
              "          [ 68.,  68.,  68.],\n",
              "          ...,\n",
              "          [185., 185., 185.],\n",
              "          [185., 185., 185.],\n",
              "          [185., 185., 185.]],\n",
              " \n",
              "         [[ 68.,  68.,  68.],\n",
              "          [ 68.,  68.,  68.],\n",
              "          [ 68.,  68.,  68.],\n",
              "          ...,\n",
              "          [185., 185., 185.],\n",
              "          [185., 185., 185.],\n",
              "          [185., 185., 185.]],\n",
              " \n",
              "         [[ 68.,  68.,  68.],\n",
              "          [ 68.,  68.,  68.],\n",
              "          [ 68.,  68.,  68.],\n",
              "          ...,\n",
              "          [185., 185., 185.],\n",
              "          [185., 185., 185.],\n",
              "          [185., 185., 185.]]],\n",
              " \n",
              " \n",
              "        [[[105., 105., 105.],\n",
              "          [105., 105., 105.],\n",
              "          [105., 105., 105.],\n",
              "          ...,\n",
              "          [134., 134., 134.],\n",
              "          [134., 134., 134.],\n",
              "          [134., 134., 134.]],\n",
              " \n",
              "         [[105., 105., 105.],\n",
              "          [105., 105., 105.],\n",
              "          [105., 105., 105.],\n",
              "          ...,\n",
              "          [134., 134., 134.],\n",
              "          [134., 134., 134.],\n",
              "          [134., 134., 134.]],\n",
              " \n",
              "         [[105., 105., 105.],\n",
              "          [105., 105., 105.],\n",
              "          [105., 105., 105.],\n",
              "          ...,\n",
              "          [134., 134., 134.],\n",
              "          [134., 134., 134.],\n",
              "          [134., 134., 134.]],\n",
              " \n",
              "         ...,\n",
              " \n",
              "         [[224., 224., 224.],\n",
              "          [224., 224., 224.],\n",
              "          [224., 224., 224.],\n",
              "          ...,\n",
              "          [224., 224., 224.],\n",
              "          [224., 224., 224.],\n",
              "          [224., 224., 224.]],\n",
              " \n",
              "         [[224., 224., 224.],\n",
              "          [224., 224., 224.],\n",
              "          [224., 224., 224.],\n",
              "          ...,\n",
              "          [224., 224., 224.],\n",
              "          [224., 224., 224.],\n",
              "          [224., 224., 224.]],\n",
              " \n",
              "         [[224., 224., 224.],\n",
              "          [224., 224., 224.],\n",
              "          [224., 224., 224.],\n",
              "          ...,\n",
              "          [224., 224., 224.],\n",
              "          [224., 224., 224.],\n",
              "          [224., 224., 224.]]]], dtype=float32),\n",
              " array([3, 4, 0, 2, 4, 4, 3, 3, 4, 3, 5, 3, 0, 3, 4, 5, 3, 4, 5, 2, 0, 5,\n",
              "        5, 6, 3, 4, 3, 3, 5, 6, 2, 3], dtype=int32))"
            ]
          },
          "metadata": {},
          "execution_count": 7
        }
      ],
      "source": [
        "test_batch"
      ]
    },
    {
      "cell_type": "code",
      "execution_count": 8,
      "metadata": {
        "colab": {
          "base_uri": "https://localhost:8080/"
        },
        "id": "N9nCM-blMnko",
        "outputId": "33d8e13b-9f5b-41a7-9ad5-03b91be14d21"
      },
      "outputs": [
        {
          "output_type": "execute_result",
          "data": {
            "text/plain": [
              "2"
            ]
          },
          "metadata": {},
          "execution_count": 8
        }
      ],
      "source": [
        "len(test_batch)"
      ]
    },
    {
      "cell_type": "code",
      "execution_count": 9,
      "metadata": {
        "colab": {
          "base_uri": "https://localhost:8080/"
        },
        "id": "b6lA6tY8MyfE",
        "outputId": "b21982cf-883a-4d62-9d89-08cebe1efe0e"
      },
      "outputs": [
        {
          "output_type": "execute_result",
          "data": {
            "text/plain": [
              "(32, 256, 256, 3)"
            ]
          },
          "metadata": {},
          "execution_count": 9
        }
      ],
      "source": [
        "train_batch[0].shape"
      ]
    },
    {
      "cell_type": "code",
      "execution_count": 10,
      "metadata": {
        "id": "vh42QIqDQbJI"
      },
      "outputs": [],
      "source": [
        "train_data = train_data.map(lambda x,y: (x/255,y))\n",
        "test_data = test_data.map(lambda x,y: (x/255,y))"
      ]
    },
    {
      "cell_type": "code",
      "execution_count": 11,
      "metadata": {
        "colab": {
          "base_uri": "https://localhost:8080/"
        },
        "id": "B3IEe24mYzTL",
        "outputId": "95ea5921-a89a-41c3-95d0-9e5af91a535b"
      },
      "outputs": [
        {
          "output_type": "execute_result",
          "data": {
            "text/plain": [
              "1.0"
            ]
          },
          "metadata": {},
          "execution_count": 11
        }
      ],
      "source": [
        "scaled_train_iterator = train_data.as_numpy_iterator()\n",
        "scaled_test_iterator = test_data.as_numpy_iterator()\n",
        "train_batch = scaled_train_iterator.next()\n",
        "test_batch = scaled_test_iterator.next()\n",
        "test_batch[0].max()"
      ]
    },
    {
      "cell_type": "code",
      "execution_count": 12,
      "metadata": {
        "colab": {
          "base_uri": "https://localhost:8080/"
        },
        "id": "qbe0M2zrUdtV",
        "outputId": "c4b5b35e-4beb-40d5-b255-8165003e6848"
      },
      "outputs": [
        {
          "output_type": "execute_result",
          "data": {
            "text/plain": [
              "908"
            ]
          },
          "metadata": {},
          "execution_count": 12
        }
      ],
      "source": [
        "len(train_data)"
      ]
    },
    {
      "cell_type": "code",
      "execution_count": 13,
      "metadata": {
        "colab": {
          "base_uri": "https://localhost:8080/"
        },
        "id": "ptqVzmRhWO70",
        "outputId": "f7d1dc02-465e-4aa8-8eee-5cd2ea62a377"
      },
      "outputs": [
        {
          "output_type": "execute_result",
          "data": {
            "text/plain": [
              "908"
            ]
          },
          "metadata": {},
          "execution_count": 13
        }
      ],
      "source": [
        "train_size = int(len(train_data)*0.7)\n",
        "val_size = int(len(train_data)*0.3)+1\n",
        "test_size = len(test_data)\n",
        "train_size+val_size"
      ]
    },
    {
      "cell_type": "code",
      "execution_count": 14,
      "metadata": {
        "id": "xP_HrdN4X0TF"
      },
      "outputs": [],
      "source": [
        "train = train_data.take(train_size)\n",
        "val = train_data.skip(train_size).take(val_size)\n",
        "test = test_data.take(test_size)"
      ]
    },
    {
      "cell_type": "code",
      "execution_count": 15,
      "metadata": {
        "colab": {
          "base_uri": "https://localhost:8080/"
        },
        "id": "XjyWT-jYYOyO",
        "outputId": "6d489c25-cef1-45da-92e8-0acecdeb2c82"
      },
      "outputs": [
        {
          "output_type": "stream",
          "name": "stdout",
          "text": [
            "635 273 231\n"
          ]
        }
      ],
      "source": [
        "print(len(train),len(val),len(test))"
      ]
    },
    {
      "cell_type": "markdown",
      "metadata": {
        "id": "5w3AALkQMjTc"
      },
      "source": [
        "## Step 3 - Model"
      ]
    },
    {
      "cell_type": "code",
      "execution_count": 16,
      "metadata": {
        "id": "D9-x5qeIMmel"
      },
      "outputs": [],
      "source": [
        "model = Sequential(\n",
        "    [\n",
        "        Conv2D(16, (3,3), 1,  activation = 'relu', input_shape = (256, 256, 3)),\n",
        "        MaxPooling2D(),\n",
        "\n",
        "        Conv2D(32, (3,3), 1,  activation = 'relu'),\n",
        "        MaxPooling2D(),\n",
        "\n",
        "        Conv2D(16, (3,3), 1,  activation = 'relu', input_shape = (256, 256, 3)),\n",
        "        MaxPooling2D(),\n",
        "\n",
        "        Flatten(),\n",
        "\n",
        "        Dense(256, activation = 'relu'),\n",
        "        Dense(7, activation = 'softmax')\n",
        "    ]\n",
        ")"
      ]
    },
    {
      "cell_type": "code",
      "execution_count": 17,
      "metadata": {
        "id": "iani6A64QfFa"
      },
      "outputs": [],
      "source": [
        "model.compile(\n",
        "    optimizer = Adam(learning_rate = 0.001),\n",
        "    loss=tf.keras.losses.SparseCategoricalCrossentropy(from_logits=True),\n",
        "    metrics=['accuracy']\n",
        ")"
      ]
    },
    {
      "cell_type": "code",
      "source": [
        "early_stopping = EarlyStopping(patience=5, monitor='val_loss', restore_best_weights=True)\n",
        "reduce_lr = ReduceLROnPlateau(factor=0.1, patience=3, monitor='val_loss', min_lr=0.00001)"
      ],
      "metadata": {
        "id": "0lShxI5Gb5-A"
      },
      "execution_count": 18,
      "outputs": []
    },
    {
      "cell_type": "code",
      "execution_count": 19,
      "metadata": {
        "colab": {
          "base_uri": "https://localhost:8080/"
        },
        "id": "E8aNblDNQvWO",
        "outputId": "20bc4340-04b7-4996-f833-fca34b8ce88a"
      },
      "outputs": [
        {
          "output_type": "stream",
          "name": "stdout",
          "text": [
            "Model: \"sequential\"\n",
            "_________________________________________________________________\n",
            " Layer (type)                Output Shape              Param #   \n",
            "=================================================================\n",
            " conv2d (Conv2D)             (None, 254, 254, 16)      448       \n",
            "                                                                 \n",
            " max_pooling2d (MaxPooling2D  (None, 127, 127, 16)     0         \n",
            " )                                                               \n",
            "                                                                 \n",
            " conv2d_1 (Conv2D)           (None, 125, 125, 32)      4640      \n",
            "                                                                 \n",
            " max_pooling2d_1 (MaxPooling  (None, 62, 62, 32)       0         \n",
            " 2D)                                                             \n",
            "                                                                 \n",
            " conv2d_2 (Conv2D)           (None, 60, 60, 16)        4624      \n",
            "                                                                 \n",
            " max_pooling2d_2 (MaxPooling  (None, 30, 30, 16)       0         \n",
            " 2D)                                                             \n",
            "                                                                 \n",
            " flatten (Flatten)           (None, 14400)             0         \n",
            "                                                                 \n",
            " dense (Dense)               (None, 256)               3686656   \n",
            "                                                                 \n",
            " dense_1 (Dense)             (None, 7)                 1799      \n",
            "                                                                 \n",
            "=================================================================\n",
            "Total params: 3,698,167\n",
            "Trainable params: 3,698,167\n",
            "Non-trainable params: 0\n",
            "_________________________________________________________________\n"
          ]
        }
      ],
      "source": [
        "model.summary()"
      ]
    },
    {
      "cell_type": "code",
      "execution_count": 20,
      "metadata": {
        "id": "Vrndyi1jRMlq"
      },
      "outputs": [],
      "source": [
        "log_dir = '/content/gdrive/MyDrive/Human emotions/Logs'\n",
        "tensorboard_callback = tf.keras.callbacks.TensorBoard(log_dir = log_dir)"
      ]
    },
    {
      "cell_type": "code",
      "execution_count": 24,
      "metadata": {
        "colab": {
          "base_uri": "https://localhost:8080/"
        },
        "id": "avgsQBkbU3Pz",
        "outputId": "b636a724-60d0-4817-8e67-2872bfc8f0bb"
      },
      "outputs": [
        {
          "output_type": "stream",
          "name": "stdout",
          "text": [
            "Epoch 1/20\n",
            "635/635 [==============================] - 97s 153ms/step - loss: 1.0318 - accuracy: 0.6190 - val_loss: 1.5111 - val_accuracy: 0.4586 - lr: 1.0000e-05\n",
            "Epoch 2/20\n",
            "635/635 [==============================] - 96s 151ms/step - loss: 1.0218 - accuracy: 0.6249 - val_loss: 1.5133 - val_accuracy: 0.4601 - lr: 1.0000e-05\n",
            "Epoch 3/20\n",
            "635/635 [==============================] - 97s 152ms/step - loss: 1.0155 - accuracy: 0.6281 - val_loss: 1.5167 - val_accuracy: 0.4603 - lr: 1.0000e-05\n",
            "Epoch 4/20\n",
            "635/635 [==============================] - 96s 151ms/step - loss: 1.0097 - accuracy: 0.6306 - val_loss: 1.5161 - val_accuracy: 0.4621 - lr: 1.0000e-05\n",
            "Epoch 5/20\n",
            "635/635 [==============================] - 97s 152ms/step - loss: 1.0010 - accuracy: 0.6332 - val_loss: 1.5152 - val_accuracy: 0.4636 - lr: 1.0000e-05\n",
            "Epoch 6/20\n",
            "635/635 [==============================] - 129s 203ms/step - loss: 0.9962 - accuracy: 0.6343 - val_loss: 1.5191 - val_accuracy: 0.4633 - lr: 1.0000e-05\n"
          ]
        }
      ],
      "source": [
        "history = model.fit(train, validation_data = val, epochs = 20, callbacks = [tensorboard_callback, early_stopping, reduce_lr])"
      ]
    },
    {
      "cell_type": "code",
      "execution_count": 25,
      "metadata": {
        "id": "c9H9mYj1VQDz",
        "colab": {
          "base_uri": "https://localhost:8080/"
        },
        "outputId": "af70ce00-4362-4223-96e0-b5414c7c0fc1"
      },
      "outputs": [
        {
          "output_type": "stream",
          "name": "stderr",
          "text": [
            "WARNING:absl:Found untraced functions such as _jit_compiled_convolution_op, _jit_compiled_convolution_op, _jit_compiled_convolution_op while saving (showing 3 of 3). These functions will not be directly callable after loading.\n"
          ]
        }
      ],
      "source": [
        "model.save('/content/gdrive/MyDrive/Human emotions/Saved_model')\n"
      ]
    },
    {
      "cell_type": "code",
      "source": [],
      "metadata": {
        "id": "5Qv8EE2jyg_B"
      },
      "execution_count": null,
      "outputs": []
    }
  ],
  "metadata": {
    "colab": {
      "provenance": [],
      "gpuType": "T4",
      "collapsed_sections": [
        "DcLBknbhLn00",
        "8G-RZ8UGMZ1E"
      ],
      "authorship_tag": "ABX9TyPJU2MqdcEG8DO/sLuXd2w8",
      "include_colab_link": true
    },
    "kernelspec": {
      "display_name": "Python 3",
      "name": "python3"
    },
    "language_info": {
      "name": "python"
    },
    "accelerator": "GPU"
  },
  "nbformat": 4,
  "nbformat_minor": 0
}