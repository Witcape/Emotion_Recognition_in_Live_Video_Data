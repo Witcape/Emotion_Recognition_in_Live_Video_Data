{
  "cells": [
    {
      "cell_type": "markdown",
      "metadata": {
        "id": "view-in-github",
        "colab_type": "text"
      },
      "source": [
        "<a href=\"https://colab.research.google.com/github/Witcape/Emotion_Recognition_in_Live_Video_Data/blob/main/Emotion_Recognition_in_Video_Data.ipynb\" target=\"_parent\"><img src=\"https://colab.research.google.com/assets/colab-badge.svg\" alt=\"Open In Colab\"/></a>"
      ]
    },
    {
      "cell_type": "markdown",
      "metadata": {
        "id": "DcLBknbhLn00"
      },
      "source": [
        "### STEP 1 - Import all the Libraries and google drive"
      ]
    },
    {
      "cell_type": "code",
      "execution_count": 21,
      "metadata": {
        "id": "HsNtUV7wy2_X"
      },
      "outputs": [],
      "source": [
        "from sympy import *\n",
        "import numpy as np\n",
        "import matplotlib.pyplot as plt\n",
        "import ipywidgets as widgets\n",
        "import sklearn\n",
        "import tensorflow as tf\n",
        "import pandas as pd\n",
        "import sklearn\n",
        "from tensorflow.keras.models import Sequential, load_model\n",
        "from tensorflow.keras.layers import Dense, Conv2D, MaxPooling2D, Flatten, Dropout\n",
        "from tensorflow.keras.activations import linear,relu,sigmoid\n",
        "import cv2\n",
        "import os\n",
        "from sklearn.preprocessing import LabelEncoder, OneHotEncoder\n",
        "from tensorflow.keras.optimizers import Adam\n",
        "from keras.callbacks import EarlyStopping, ReduceLROnPlateau"
      ]
    },
    {
      "cell_type": "code",
      "execution_count": 22,
      "metadata": {
        "colab": {
          "base_uri": "https://localhost:8080/"
        },
        "id": "5aLgwauVTsBV",
        "outputId": "bda760fa-2db3-4241-9a60-adbe0c6dc678"
      },
      "outputs": [
        {
          "output_type": "stream",
          "name": "stdout",
          "text": [
            "Drive already mounted at /content/gdrive; to attempt to forcibly remount, call drive.mount(\"/content/gdrive\", force_remount=True).\n"
          ]
        }
      ],
      "source": [
        "from google.colab import drive\n",
        "drive.mount('/content/gdrive')"
      ]
    },
    {
      "cell_type": "code",
      "execution_count": null,
      "metadata": {
        "colab": {
          "base_uri": "https://localhost:8080/",
          "height": 236
        },
        "id": "8rLSeQYHTVPz",
        "outputId": "e7d60cfe-3a51-49b3-b718-a58a5fcf25e0"
      },
      "outputs": [
        {
          "output_type": "error",
          "ename": "NameError",
          "evalue": "ignored",
          "traceback": [
            "\u001b[0;31m---------------------------------------------------------------------------\u001b[0m",
            "\u001b[0;31mNameError\u001b[0m                                 Traceback (most recent call last)",
            "\u001b[0;32m<ipython-input-3-5cf0657b1e82>\u001b[0m in \u001b[0;36m<cell line: 1>\u001b[0;34m()\u001b[0m\n\u001b[0;32m----> 1\u001b[0;31m \u001b[0mloss\u001b[0m \u001b[0;34m=\u001b[0m \u001b[0mhistory\u001b[0m\u001b[0;34m.\u001b[0m\u001b[0mhistory\u001b[0m\u001b[0;34m[\u001b[0m\u001b[0;34m'loss'\u001b[0m\u001b[0;34m]\u001b[0m\u001b[0;34m\u001b[0m\u001b[0;34m\u001b[0m\u001b[0m\n\u001b[0m\u001b[1;32m      2\u001b[0m \u001b[0mepochs\u001b[0m \u001b[0;34m=\u001b[0m \u001b[0mrange\u001b[0m\u001b[0;34m(\u001b[0m\u001b[0;36m1\u001b[0m\u001b[0;34m,\u001b[0m \u001b[0mlen\u001b[0m\u001b[0;34m(\u001b[0m\u001b[0mloss\u001b[0m\u001b[0;34m)\u001b[0m \u001b[0;34m+\u001b[0m \u001b[0;36m1\u001b[0m\u001b[0;34m)\u001b[0m\u001b[0;34m\u001b[0m\u001b[0;34m\u001b[0m\u001b[0m\n\u001b[1;32m      3\u001b[0m \u001b[0;34m\u001b[0m\u001b[0m\n\u001b[1;32m      4\u001b[0m \u001b[0mplt\u001b[0m\u001b[0;34m.\u001b[0m\u001b[0mplot\u001b[0m\u001b[0;34m(\u001b[0m\u001b[0mepochs\u001b[0m\u001b[0;34m,\u001b[0m \u001b[0mloss\u001b[0m\u001b[0;34m,\u001b[0m \u001b[0mlabel\u001b[0m\u001b[0;34m=\u001b[0m\u001b[0;34m'Training Loss'\u001b[0m\u001b[0;34m)\u001b[0m\u001b[0;34m\u001b[0m\u001b[0;34m\u001b[0m\u001b[0m\n\u001b[1;32m      5\u001b[0m \u001b[0mplt\u001b[0m\u001b[0;34m.\u001b[0m\u001b[0mxlabel\u001b[0m\u001b[0;34m(\u001b[0m\u001b[0;34m'Epochs'\u001b[0m\u001b[0;34m)\u001b[0m\u001b[0;34m\u001b[0m\u001b[0;34m\u001b[0m\u001b[0m\n",
            "\u001b[0;31mNameError\u001b[0m: name 'history' is not defined"
          ]
        }
      ],
      "source": [
        "loss = history.history['loss']\n",
        "epochs = range(1, len(loss) + 1)\n",
        "\n",
        "plt.plot(epochs, loss, label='Training Loss')\n",
        "plt.xlabel('Epochs')\n",
        "plt.ylabel('Loss')\n",
        "plt.legend()\n",
        "plt.show()"
      ]
    },
    {
      "cell_type": "markdown",
      "metadata": {
        "id": "8G-RZ8UGMZ1E"
      },
      "source": [
        "## Step 2 - Loading Data & Preprocessing"
      ]
    },
    {
      "cell_type": "code",
      "execution_count": 3,
      "metadata": {
        "id": "FtdQSKfJHTy9"
      },
      "outputs": [],
      "source": [
        "train_data_dir = '/content/gdrive/MyDrive/Human emotions/train'\n",
        "test_data_dir = '/content/gdrive/MyDrive/Human emotions/test'"
      ]
    },
    {
      "cell_type": "code",
      "execution_count": 4,
      "metadata": {
        "colab": {
          "base_uri": "https://localhost:8080/"
        },
        "id": "KckQ2LmfIFBQ",
        "outputId": "49bea608-4807-4721-e349-623f824129d0"
      },
      "outputs": [
        {
          "output_type": "stream",
          "name": "stdout",
          "text": [
            "Found 29031 files belonging to 7 classes.\n",
            "Found 7378 files belonging to 7 classes.\n"
          ]
        }
      ],
      "source": [
        "train_data = tf.keras.utils.image_dataset_from_directory(train_data_dir)\n",
        "test_data = tf.keras.utils.image_dataset_from_directory(test_data_dir)"
      ]
    },
    {
      "cell_type": "code",
      "execution_count": 5,
      "metadata": {
        "id": "7c0SXHPrLD-3"
      },
      "outputs": [],
      "source": [
        "train_data_iterator = train_data.as_numpy_iterator()\n",
        "test_data_iterator = test_data.as_numpy_iterator()"
      ]
    },
    {
      "cell_type": "code",
      "execution_count": 6,
      "metadata": {
        "id": "xF513W62MMSu"
      },
      "outputs": [],
      "source": [
        "train_batch = train_data_iterator.next()\n",
        "test_batch = test_data_iterator.next()"
      ]
    },
    {
      "cell_type": "code",
      "execution_count": 7,
      "metadata": {
        "colab": {
          "base_uri": "https://localhost:8080/"
        },
        "id": "gC0T16qwMVRx",
        "outputId": "9e1f0ab9-3735-455c-8928-0b31cf99f380"
      },
      "outputs": [
        {
          "output_type": "execute_result",
          "data": {
            "text/plain": [
              "(array([[[[ 21.,  21.,  21.],\n",
              "          [ 21.,  21.,  21.],\n",
              "          [ 21.,  21.,  21.],\n",
              "          ...,\n",
              "          [ 53.,  53.,  53.],\n",
              "          [ 53.,  53.,  53.],\n",
              "          [ 53.,  53.,  53.]],\n",
              " \n",
              "         [[ 21.,  21.,  21.],\n",
              "          [ 21.,  21.,  21.],\n",
              "          [ 21.,  21.,  21.],\n",
              "          ...,\n",
              "          [ 53.,  53.,  53.],\n",
              "          [ 53.,  53.,  53.],\n",
              "          [ 53.,  53.,  53.]],\n",
              " \n",
              "         [[ 21.,  21.,  21.],\n",
              "          [ 21.,  21.,  21.],\n",
              "          [ 21.,  21.,  21.],\n",
              "          ...,\n",
              "          [ 53.,  53.,  53.],\n",
              "          [ 53.,  53.,  53.],\n",
              "          [ 53.,  53.,  53.]],\n",
              " \n",
              "         ...,\n",
              " \n",
              "         [[ 83.,  83.,  83.],\n",
              "          [ 83.,  83.,  83.],\n",
              "          [ 83.,  83.,  83.],\n",
              "          ...,\n",
              "          [ 97.,  97.,  97.],\n",
              "          [ 97.,  97.,  97.],\n",
              "          [ 97.,  97.,  97.]],\n",
              " \n",
              "         [[ 83.,  83.,  83.],\n",
              "          [ 83.,  83.,  83.],\n",
              "          [ 83.,  83.,  83.],\n",
              "          ...,\n",
              "          [ 97.,  97.,  97.],\n",
              "          [ 97.,  97.,  97.],\n",
              "          [ 97.,  97.,  97.]],\n",
              " \n",
              "         [[ 83.,  83.,  83.],\n",
              "          [ 83.,  83.,  83.],\n",
              "          [ 83.,  83.,  83.],\n",
              "          ...,\n",
              "          [ 97.,  97.,  97.],\n",
              "          [ 97.,  97.,  97.],\n",
              "          [ 97.,  97.,  97.]]],\n",
              " \n",
              " \n",
              "        [[[124., 124., 124.],\n",
              "          [124., 124., 124.],\n",
              "          [124., 124., 124.],\n",
              "          ...,\n",
              "          [160., 160., 160.],\n",
              "          [160., 160., 160.],\n",
              "          [160., 160., 160.]],\n",
              " \n",
              "         [[124., 124., 124.],\n",
              "          [124., 124., 124.],\n",
              "          [124., 124., 124.],\n",
              "          ...,\n",
              "          [160., 160., 160.],\n",
              "          [160., 160., 160.],\n",
              "          [160., 160., 160.]],\n",
              " \n",
              "         [[124., 124., 124.],\n",
              "          [124., 124., 124.],\n",
              "          [124., 124., 124.],\n",
              "          ...,\n",
              "          [160., 160., 160.],\n",
              "          [160., 160., 160.],\n",
              "          [160., 160., 160.]],\n",
              " \n",
              "         ...,\n",
              " \n",
              "         [[102., 102., 102.],\n",
              "          [102., 102., 102.],\n",
              "          [102., 102., 102.],\n",
              "          ...,\n",
              "          [226., 226., 226.],\n",
              "          [226., 226., 226.],\n",
              "          [226., 226., 226.]],\n",
              " \n",
              "         [[102., 102., 102.],\n",
              "          [102., 102., 102.],\n",
              "          [102., 102., 102.],\n",
              "          ...,\n",
              "          [226., 226., 226.],\n",
              "          [226., 226., 226.],\n",
              "          [226., 226., 226.]],\n",
              " \n",
              "         [[102., 102., 102.],\n",
              "          [102., 102., 102.],\n",
              "          [102., 102., 102.],\n",
              "          ...,\n",
              "          [226., 226., 226.],\n",
              "          [226., 226., 226.],\n",
              "          [226., 226., 226.]]],\n",
              " \n",
              " \n",
              "        [[[118., 118., 118.],\n",
              "          [118., 118., 118.],\n",
              "          [118., 118., 118.],\n",
              "          ...,\n",
              "          [  8.,   8.,   8.],\n",
              "          [  8.,   8.,   8.],\n",
              "          [  8.,   8.,   8.]],\n",
              " \n",
              "         [[118., 118., 118.],\n",
              "          [118., 118., 118.],\n",
              "          [118., 118., 118.],\n",
              "          ...,\n",
              "          [  8.,   8.,   8.],\n",
              "          [  8.,   8.,   8.],\n",
              "          [  8.,   8.,   8.]],\n",
              " \n",
              "         [[118., 118., 118.],\n",
              "          [118., 118., 118.],\n",
              "          [118., 118., 118.],\n",
              "          ...,\n",
              "          [  8.,   8.,   8.],\n",
              "          [  8.,   8.,   8.],\n",
              "          [  8.,   8.,   8.]],\n",
              " \n",
              "         ...,\n",
              " \n",
              "         [[229., 229., 229.],\n",
              "          [229., 229., 229.],\n",
              "          [229., 229., 229.],\n",
              "          ...,\n",
              "          [169., 169., 169.],\n",
              "          [169., 169., 169.],\n",
              "          [169., 169., 169.]],\n",
              " \n",
              "         [[229., 229., 229.],\n",
              "          [229., 229., 229.],\n",
              "          [229., 229., 229.],\n",
              "          ...,\n",
              "          [169., 169., 169.],\n",
              "          [169., 169., 169.],\n",
              "          [169., 169., 169.]],\n",
              " \n",
              "         [[229., 229., 229.],\n",
              "          [229., 229., 229.],\n",
              "          [229., 229., 229.],\n",
              "          ...,\n",
              "          [169., 169., 169.],\n",
              "          [169., 169., 169.],\n",
              "          [169., 169., 169.]]],\n",
              " \n",
              " \n",
              "        ...,\n",
              " \n",
              " \n",
              "        [[[ 31.,  31.,  31.],\n",
              "          [ 31.,  31.,  31.],\n",
              "          [ 31.,  31.,  31.],\n",
              "          ...,\n",
              "          [ 38.,  38.,  38.],\n",
              "          [ 38.,  38.,  38.],\n",
              "          [ 38.,  38.,  38.]],\n",
              " \n",
              "         [[ 31.,  31.,  31.],\n",
              "          [ 31.,  31.,  31.],\n",
              "          [ 31.,  31.,  31.],\n",
              "          ...,\n",
              "          [ 38.,  38.,  38.],\n",
              "          [ 38.,  38.,  38.],\n",
              "          [ 38.,  38.,  38.]],\n",
              " \n",
              "         [[ 31.,  31.,  31.],\n",
              "          [ 31.,  31.,  31.],\n",
              "          [ 31.,  31.,  31.],\n",
              "          ...,\n",
              "          [ 38.,  38.,  38.],\n",
              "          [ 38.,  38.,  38.],\n",
              "          [ 38.,  38.,  38.]],\n",
              " \n",
              "         ...,\n",
              " \n",
              "         [[163., 163., 163.],\n",
              "          [163., 163., 163.],\n",
              "          [163., 163., 163.],\n",
              "          ...,\n",
              "          [ 89.,  89.,  89.],\n",
              "          [ 89.,  89.,  89.],\n",
              "          [ 89.,  89.,  89.]],\n",
              " \n",
              "         [[163., 163., 163.],\n",
              "          [163., 163., 163.],\n",
              "          [163., 163., 163.],\n",
              "          ...,\n",
              "          [ 89.,  89.,  89.],\n",
              "          [ 89.,  89.,  89.],\n",
              "          [ 89.,  89.,  89.]],\n",
              " \n",
              "         [[163., 163., 163.],\n",
              "          [163., 163., 163.],\n",
              "          [163., 163., 163.],\n",
              "          ...,\n",
              "          [ 89.,  89.,  89.],\n",
              "          [ 89.,  89.,  89.],\n",
              "          [ 89.,  89.,  89.]]],\n",
              " \n",
              " \n",
              "        [[[ 34.,  34.,  34.],\n",
              "          [ 34.,  34.,  34.],\n",
              "          [ 34.,  34.,  34.],\n",
              "          ...,\n",
              "          [204., 204., 204.],\n",
              "          [204., 204., 204.],\n",
              "          [204., 204., 204.]],\n",
              " \n",
              "         [[ 34.,  34.,  34.],\n",
              "          [ 34.,  34.,  34.],\n",
              "          [ 34.,  34.,  34.],\n",
              "          ...,\n",
              "          [204., 204., 204.],\n",
              "          [204., 204., 204.],\n",
              "          [204., 204., 204.]],\n",
              " \n",
              "         [[ 34.,  34.,  34.],\n",
              "          [ 34.,  34.,  34.],\n",
              "          [ 34.,  34.,  34.],\n",
              "          ...,\n",
              "          [204., 204., 204.],\n",
              "          [204., 204., 204.],\n",
              "          [204., 204., 204.]],\n",
              " \n",
              "         ...,\n",
              " \n",
              "         [[ 92.,  92.,  92.],\n",
              "          [ 92.,  92.,  92.],\n",
              "          [ 92.,  92.,  92.],\n",
              "          ...,\n",
              "          [235., 235., 235.],\n",
              "          [235., 235., 235.],\n",
              "          [235., 235., 235.]],\n",
              " \n",
              "         [[ 92.,  92.,  92.],\n",
              "          [ 92.,  92.,  92.],\n",
              "          [ 92.,  92.,  92.],\n",
              "          ...,\n",
              "          [235., 235., 235.],\n",
              "          [235., 235., 235.],\n",
              "          [235., 235., 235.]],\n",
              " \n",
              "         [[ 92.,  92.,  92.],\n",
              "          [ 92.,  92.,  92.],\n",
              "          [ 92.,  92.,  92.],\n",
              "          ...,\n",
              "          [235., 235., 235.],\n",
              "          [235., 235., 235.],\n",
              "          [235., 235., 235.]]],\n",
              " \n",
              " \n",
              "        [[[233., 233., 233.],\n",
              "          [233., 233., 233.],\n",
              "          [233., 233., 233.],\n",
              "          ...,\n",
              "          [170., 170., 170.],\n",
              "          [170., 170., 170.],\n",
              "          [170., 170., 170.]],\n",
              " \n",
              "         [[233., 233., 233.],\n",
              "          [233., 233., 233.],\n",
              "          [233., 233., 233.],\n",
              "          ...,\n",
              "          [170., 170., 170.],\n",
              "          [170., 170., 170.],\n",
              "          [170., 170., 170.]],\n",
              " \n",
              "         [[233., 233., 233.],\n",
              "          [233., 233., 233.],\n",
              "          [233., 233., 233.],\n",
              "          ...,\n",
              "          [170., 170., 170.],\n",
              "          [170., 170., 170.],\n",
              "          [170., 170., 170.]],\n",
              " \n",
              "         ...,\n",
              " \n",
              "         [[210., 210., 210.],\n",
              "          [210., 210., 210.],\n",
              "          [210., 210., 210.],\n",
              "          ...,\n",
              "          [184., 184., 184.],\n",
              "          [184., 184., 184.],\n",
              "          [184., 184., 184.]],\n",
              " \n",
              "         [[210., 210., 210.],\n",
              "          [210., 210., 210.],\n",
              "          [210., 210., 210.],\n",
              "          ...,\n",
              "          [184., 184., 184.],\n",
              "          [184., 184., 184.],\n",
              "          [184., 184., 184.]],\n",
              " \n",
              "         [[210., 210., 210.],\n",
              "          [210., 210., 210.],\n",
              "          [210., 210., 210.],\n",
              "          ...,\n",
              "          [184., 184., 184.],\n",
              "          [184., 184., 184.],\n",
              "          [184., 184., 184.]]]], dtype=float32),\n",
              " array([4, 0, 0, 0, 4, 4, 5, 4, 3, 3, 3, 0, 5, 5, 3, 4, 5, 4, 6, 0, 6, 4,\n",
              "        5, 2, 4, 5, 0, 5, 3, 4, 3, 3], dtype=int32))"
            ]
          },
          "metadata": {},
          "execution_count": 7
        }
      ],
      "source": [
        "test_batch"
      ]
    },
    {
      "cell_type": "code",
      "execution_count": 8,
      "metadata": {
        "colab": {
          "base_uri": "https://localhost:8080/"
        },
        "id": "N9nCM-blMnko",
        "outputId": "49dd7887-f797-4086-c91b-17742e1261bb"
      },
      "outputs": [
        {
          "output_type": "execute_result",
          "data": {
            "text/plain": [
              "2"
            ]
          },
          "metadata": {},
          "execution_count": 8
        }
      ],
      "source": [
        "len(test_batch)"
      ]
    },
    {
      "cell_type": "code",
      "execution_count": 9,
      "metadata": {
        "colab": {
          "base_uri": "https://localhost:8080/"
        },
        "id": "b6lA6tY8MyfE",
        "outputId": "aeec32ef-4404-4a7c-fd94-c34db3f5b948"
      },
      "outputs": [
        {
          "output_type": "execute_result",
          "data": {
            "text/plain": [
              "(32, 256, 256, 3)"
            ]
          },
          "metadata": {},
          "execution_count": 9
        }
      ],
      "source": [
        "train_batch[0].shape"
      ]
    },
    {
      "cell_type": "code",
      "execution_count": 10,
      "metadata": {
        "id": "vh42QIqDQbJI"
      },
      "outputs": [],
      "source": [
        "train_data = train_data.map(lambda x,y: (x/255,y))\n",
        "test_data = test_data.map(lambda x,y: (x/255,y))"
      ]
    },
    {
      "cell_type": "code",
      "execution_count": 11,
      "metadata": {
        "colab": {
          "base_uri": "https://localhost:8080/"
        },
        "id": "B3IEe24mYzTL",
        "outputId": "93dd4ba4-33ca-4b15-c27e-b0f4198847a5"
      },
      "outputs": [
        {
          "output_type": "execute_result",
          "data": {
            "text/plain": [
              "1.0"
            ]
          },
          "metadata": {},
          "execution_count": 11
        }
      ],
      "source": [
        "\n",
        "scaled_train_iterator = train_data.as_numpy_iterator()\n",
        "scaled_test_iterator = test_data.as_numpy_iterator()\n",
        "train_batch = scaled_train_iterator.next()\n",
        "test_batch = scaled_test_iterator.next()\n",
        "test_batch[0].max()"
      ]
    },
    {
      "cell_type": "code",
      "execution_count": 12,
      "metadata": {
        "colab": {
          "base_uri": "https://localhost:8080/"
        },
        "id": "qbe0M2zrUdtV",
        "outputId": "62b27395-6bd5-4985-f680-e98e5af86f23"
      },
      "outputs": [
        {
          "output_type": "execute_result",
          "data": {
            "text/plain": [
              "908"
            ]
          },
          "metadata": {},
          "execution_count": 12
        }
      ],
      "source": [
        "len(train_data)"
      ]
    },
    {
      "cell_type": "code",
      "execution_count": 13,
      "metadata": {
        "colab": {
          "base_uri": "https://localhost:8080/"
        },
        "id": "ptqVzmRhWO70",
        "outputId": "75c523f1-43ce-4c7d-bc94-cfbb8695dcbc"
      },
      "outputs": [
        {
          "output_type": "execute_result",
          "data": {
            "text/plain": [
              "908"
            ]
          },
          "metadata": {},
          "execution_count": 13
        }
      ],
      "source": [
        "train_size = int(len(train_data)*0.7)\n",
        "val_size = int(len(train_data)*0.3)+1\n",
        "test_size = len(test_data)\n",
        "train_size+val_size"
      ]
    },
    {
      "cell_type": "code",
      "execution_count": 30,
      "metadata": {
        "id": "xP_HrdN4X0TF"
      },
      "outputs": [],
      "source": [
        "train = train_data.take(train_size)\n",
        "val = train_data.skip(train_size).take(val_size)\n",
        "test = test_data.take(test_size)"
      ]
    },
    {
      "cell_type": "code",
      "execution_count": 15,
      "metadata": {
        "colab": {
          "base_uri": "https://localhost:8080/"
        },
        "id": "XjyWT-jYYOyO",
        "outputId": "1d85a9f8-86c5-41a1-8a40-69e4938c8bb8"
      },
      "outputs": [
        {
          "output_type": "stream",
          "name": "stdout",
          "text": [
            "635 273 231\n"
          ]
        }
      ],
      "source": [
        "print(len(train),len(val),len(test))"
      ]
    },
    {
      "cell_type": "markdown",
      "metadata": {
        "id": "5w3AALkQMjTc"
      },
      "source": [
        "## Step 3 - Model"
      ]
    },
    {
      "cell_type": "code",
      "execution_count": 23,
      "metadata": {
        "id": "D9-x5qeIMmel"
      },
      "outputs": [],
      "source": [
        "model = Sequential(\n",
        "    [\n",
        "        Conv2D(32, (3,3), 1,  activation = 'relu', input_shape = (256, 256, 3)),\n",
        "        MaxPooling2D(),\n",
        "        Dropout(0.25),\n",
        "\n",
        "        Conv2D(64, (3,3), 1,  activation = 'relu'),\n",
        "        MaxPooling2D(),\n",
        "        Dropout(0.25),\n",
        "\n",
        "        Conv2D(16, (3,3), 1,  activation = 'relu', input_shape = (256, 256, 3)),\n",
        "        MaxPooling2D(),\n",
        "        Dropout(0.25),\n",
        "\n",
        "        Flatten(),\n",
        "\n",
        "        Dense(256, activation = 'relu'),\n",
        "        Dense(7, activation = 'softmax')\n",
        "    ]\n",
        ")"
      ]
    },
    {
      "cell_type": "code",
      "execution_count": 24,
      "metadata": {
        "id": "iani6A64QfFa"
      },
      "outputs": [],
      "source": [
        "model.compile(\n",
        "    optimizer = Adam(learning_rate = 0.001),\n",
        "    loss=tf.keras.losses.SparseCategoricalCrossentropy(from_logits=True),\n",
        "    metrics=['accuracy']\n",
        ")"
      ]
    },
    {
      "cell_type": "code",
      "source": [
        "reduce_lr = ReduceLROnPlateau(factor=0.1, patience=3, monitor='val_loss', min_lr=0.00001)"
      ],
      "metadata": {
        "id": "0lShxI5Gb5-A"
      },
      "execution_count": 25,
      "outputs": []
    },
    {
      "cell_type": "code",
      "execution_count": 26,
      "metadata": {
        "colab": {
          "base_uri": "https://localhost:8080/"
        },
        "id": "E8aNblDNQvWO",
        "outputId": "96bc0592-8721-4dff-c9a2-d1ddb719b5a9"
      },
      "outputs": [
        {
          "output_type": "stream",
          "name": "stdout",
          "text": [
            "Model: \"sequential\"\n",
            "_________________________________________________________________\n",
            " Layer (type)                Output Shape              Param #   \n",
            "=================================================================\n",
            " conv2d (Conv2D)             (None, 254, 254, 32)      896       \n",
            "                                                                 \n",
            " max_pooling2d (MaxPooling2D  (None, 127, 127, 32)     0         \n",
            " )                                                               \n",
            "                                                                 \n",
            " dropout (Dropout)           (None, 127, 127, 32)      0         \n",
            "                                                                 \n",
            " conv2d_1 (Conv2D)           (None, 125, 125, 64)      18496     \n",
            "                                                                 \n",
            " max_pooling2d_1 (MaxPooling  (None, 62, 62, 64)       0         \n",
            " 2D)                                                             \n",
            "                                                                 \n",
            " dropout_1 (Dropout)         (None, 62, 62, 64)        0         \n",
            "                                                                 \n",
            " conv2d_2 (Conv2D)           (None, 60, 60, 16)        9232      \n",
            "                                                                 \n",
            " max_pooling2d_2 (MaxPooling  (None, 30, 30, 16)       0         \n",
            " 2D)                                                             \n",
            "                                                                 \n",
            " dropout_2 (Dropout)         (None, 30, 30, 16)        0         \n",
            "                                                                 \n",
            " flatten (Flatten)           (None, 14400)             0         \n",
            "                                                                 \n",
            " dense (Dense)               (None, 256)               3686656   \n",
            "                                                                 \n",
            " dense_1 (Dense)             (None, 7)                 1799      \n",
            "                                                                 \n",
            "=================================================================\n",
            "Total params: 3,717,079\n",
            "Trainable params: 3,717,079\n",
            "Non-trainable params: 0\n",
            "_________________________________________________________________\n"
          ]
        }
      ],
      "source": [
        "model.summary()"
      ]
    },
    {
      "cell_type": "code",
      "execution_count": 27,
      "metadata": {
        "id": "Vrndyi1jRMlq"
      },
      "outputs": [],
      "source": [
        "log_dir = '/content/gdrive/MyDrive/Human emotions/Logs'\n",
        "tensorboard_callback = tf.keras.callbacks.TensorBoard(log_dir = log_dir)"
      ]
    },
    {
      "cell_type": "code",
      "execution_count": 1,
      "metadata": {
        "colab": {
          "base_uri": "https://localhost:8080/",
          "height": 218
        },
        "id": "avgsQBkbU3Pz",
        "outputId": "b1478e5b-18ac-4bc7-d7ea-55486d59d412"
      },
      "outputs": [
        {
          "output_type": "error",
          "ename": "NameError",
          "evalue": "ignored",
          "traceback": [
            "\u001b[0;31m---------------------------------------------------------------------------\u001b[0m",
            "\u001b[0;31mNameError\u001b[0m                                 Traceback (most recent call last)",
            "\u001b[0;32m<ipython-input-1-ad82fe487d61>\u001b[0m in \u001b[0;36m<cell line: 1>\u001b[0;34m()\u001b[0m\n\u001b[0;32m----> 1\u001b[0;31m \u001b[0mhistory\u001b[0m \u001b[0;34m=\u001b[0m \u001b[0mmodel\u001b[0m\u001b[0;34m.\u001b[0m\u001b[0mfit\u001b[0m\u001b[0;34m(\u001b[0m\u001b[0mtrain\u001b[0m\u001b[0;34m,\u001b[0m \u001b[0mvalidation_data\u001b[0m \u001b[0;34m=\u001b[0m \u001b[0mval\u001b[0m\u001b[0;34m,\u001b[0m \u001b[0mepochs\u001b[0m \u001b[0;34m=\u001b[0m \u001b[0;36m50\u001b[0m\u001b[0;34m,\u001b[0m \u001b[0mcallbacks\u001b[0m \u001b[0;34m=\u001b[0m \u001b[0;34m[\u001b[0m\u001b[0mtensorboard_callback\u001b[0m\u001b[0;34m,\u001b[0m  \u001b[0mreduce_lr\u001b[0m\u001b[0;34m]\u001b[0m\u001b[0;34m)\u001b[0m\u001b[0;34m\u001b[0m\u001b[0;34m\u001b[0m\u001b[0m\n\u001b[0m",
            "\u001b[0;31mNameError\u001b[0m: name 'model' is not defined"
          ]
        }
      ],
      "source": [
        "history = model.fit(train, validation_data = val, epochs = 20, callbacks = [tensorboard_callback,  reduce_lr])"
      ]
    },
    {
      "cell_type": "code",
      "execution_count": null,
      "metadata": {
        "id": "c9H9mYj1VQDz"
      },
      "outputs": [],
      "source": [
        "model.save('/content/gdrive/MyDrive/Human emotions/Saved_model')\n"
      ]
    },
    {
      "cell_type": "code",
      "source": [
        "loaded_model = load_model('/content/gdrive/MyDrive/Human emotions/Saved_model')\n"
      ],
      "metadata": {
        "id": "5Qv8EE2jyg_B"
      },
      "execution_count": 28,
      "outputs": []
    },
    {
      "cell_type": "code",
      "source": [
        "predictions = loaded_model.predict(test)"
      ],
      "metadata": {
        "colab": {
          "base_uri": "https://localhost:8080/"
        },
        "id": "urm2_uXx61bh",
        "outputId": "b3b80bb4-bcbe-4040-ae81-fa6eae14090d"
      },
      "execution_count": 31,
      "outputs": [
        {
          "output_type": "stream",
          "name": "stdout",
          "text": [
            "231/231 [==============================] - 977s 4s/step\n"
          ]
        }
      ]
    },
    {
      "cell_type": "code",
      "source": [
        "predicted_classes = np.argmax(predictions, axis=1)"
      ],
      "metadata": {
        "id": "ox0Zk0BM64Em"
      },
      "execution_count": 34,
      "outputs": []
    },
    {
      "cell_type": "code",
      "source": [
        "test_labels = np.concatenate([y for x, y in test], axis=0)"
      ],
      "metadata": {
        "id": "Dlv4q3R8EKQY"
      },
      "execution_count": 33,
      "outputs": []
    },
    {
      "cell_type": "code",
      "source": [
        "correct_predictions = np.equal(predicted_classes, test_labels)"
      ],
      "metadata": {
        "id": "XyVn1zl2MXYL"
      },
      "execution_count": 35,
      "outputs": []
    },
    {
      "cell_type": "code",
      "source": [
        "accuracy = np.mean(correct_predictions)\n",
        "print(\"Test Accuracy:\", accuracy)"
      ],
      "metadata": {
        "colab": {
          "base_uri": "https://localhost:8080/"
        },
        "id": "lMFoJVfmNBDW",
        "outputId": "3906784a-bc4d-41bf-decf-dcccc5450e47"
      },
      "execution_count": 36,
      "outputs": [
        {
          "output_type": "stream",
          "name": "stdout",
          "text": [
            "Test Accuracy: 0.17647058823529413\n"
          ]
        }
      ]
    },
    {
      "cell_type": "code",
      "source": [],
      "metadata": {
        "id": "1IOtZX79NErX"
      },
      "execution_count": null,
      "outputs": []
    }
  ],
  "metadata": {
    "colab": {
      "provenance": [],
      "gpuType": "T4",
      "collapsed_sections": [
        "DcLBknbhLn00",
        "8G-RZ8UGMZ1E"
      ],
      "authorship_tag": "ABX9TyPTzCR3AgOWOUW9tfZ85fnZ",
      "include_colab_link": true
    },
    "kernelspec": {
      "display_name": "Python 3",
      "name": "python3"
    },
    "language_info": {
      "name": "python"
    },
    "accelerator": "GPU"
  },
  "nbformat": 4,
  "nbformat_minor": 0
}