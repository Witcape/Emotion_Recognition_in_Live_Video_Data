{
  "cells": [
    {
      "cell_type": "markdown",
      "metadata": {
        "id": "view-in-github",
        "colab_type": "text"
      },
      "source": [
        "<a href=\"https://colab.research.google.com/github/Witcape/Emotion_Recognition_in_Live_Video_Data/blob/main/Emotion_Recognition_in_Video_Data.ipynb\" target=\"_parent\"><img src=\"https://colab.research.google.com/assets/colab-badge.svg\" alt=\"Open In Colab\"/></a>"
      ]
    },
    {
      "cell_type": "markdown",
      "metadata": {
        "id": "DcLBknbhLn00"
      },
      "source": [
        "### STEP 1 - Import all the Libraries and google drive"
      ]
    },
    {
      "cell_type": "code",
      "execution_count": 1,
      "metadata": {
        "id": "HsNtUV7wy2_X"
      },
      "outputs": [],
      "source": [
        "from sympy import *\n",
        "import numpy as np\n",
        "import matplotlib.pyplot as plt\n",
        "import ipywidgets as widgets\n",
        "import sklearn\n",
        "import tensorflow as tf\n",
        "import pandas as pd\n",
        "import sklearn\n",
        "from tensorflow.keras.models import Sequential, load_model\n",
        "from tensorflow.keras.losses import SparseCategoricalCrossentropy,CategoricalCrossentropy\n",
        "from tensorflow.keras.layers import Dense, Conv2D, MaxPooling2D, Flatten, Dropout, BatchNormalization\n",
        "from tensorflow.keras.activations import linear,relu,sigmoid\n",
        "import cv2\n",
        "import os\n",
        "import PIL\n",
        "import pathlib\n",
        "from sklearn.preprocessing import LabelEncoder, OneHotEncoder\n",
        "from tensorflow.keras.optimizers import Adam\n",
        "from keras.callbacks import EarlyStopping, ReduceLROnPlateau\n",
        "from tensorflow.keras.preprocessing.image import ImageDataGenerator,img_to_array\n",
        "from tensorflow.keras.preprocessing import image\n",
        "import tensorflow_datasets as tfds"
      ]
    },
    {
      "cell_type": "code",
      "execution_count": 2,
      "metadata": {
        "id": "5aLgwauVTsBV",
        "colab": {
          "base_uri": "https://localhost:8080/"
        },
        "outputId": "e6a078d6-f001-4c3c-ac2d-4e9ae8f1c4ff"
      },
      "outputs": [
        {
          "output_type": "stream",
          "name": "stdout",
          "text": [
            "Mounted at /content/gdrive\n"
          ]
        }
      ],
      "source": [
        "from google.colab import drive\n",
        "drive.mount('/content/gdrive')"
      ]
    },
    {
      "cell_type": "markdown",
      "metadata": {
        "id": "8G-RZ8UGMZ1E"
      },
      "source": [
        "## Step 2 - Loading Data & Preprocessing"
      ]
    },
    {
      "cell_type": "code",
      "execution_count": 3,
      "metadata": {
        "id": "FtdQSKfJHTy9"
      },
      "outputs": [],
      "source": [
        "train_data_dir = '/content/gdrive/MyDrive/Human emotions/train'\n",
        "test_data_dir = '/content/gdrive/MyDrive/Human emotions/test'"
      ]
    },
    {
      "cell_type": "code",
      "execution_count": 4,
      "metadata": {
        "id": "0kuveCwiDUM9"
      },
      "outputs": [],
      "source": [
        "picture_size = 48\n",
        "batch_size = 32\n",
        "no_of_classes = 7\n",
        "epochs = 20\n",
        "\n",
        "datagen_train = ImageDataGenerator (\n",
        "                                    rescale=1./255,\n",
        "                                    validation_split=0.2\n",
        "                                    )\n",
        "\n",
        "datagen_val   = ImageDataGenerator (\n",
        "                                    rescale=1./255\n",
        "                                    )\n",
        "datagen_test   = ImageDataGenerator (\n",
        "                                    rescale=1./255\n",
        "                                    )"
      ]
    },
    {
      "cell_type": "code",
      "execution_count": 5,
      "metadata": {
        "id": "bfaBuNmgROfH",
        "colab": {
          "base_uri": "https://localhost:8080/"
        },
        "outputId": "69c2d415-a045-42ae-fe79-0a189b3498f9"
      },
      "outputs": [
        {
          "output_type": "stream",
          "name": "stdout",
          "text": [
            "Found 29031 images belonging to 7 classes.\n",
            "Found 7378 images belonging to 7 classes.\n"
          ]
        }
      ],
      "source": [
        "train_set = datagen_train.flow_from_directory(\n",
        "    train_data_dir,\n",
        "    target_size=(picture_size, picture_size),\n",
        "    color_mode=\"grayscale\",\n",
        "    batch_size=batch_size,\n",
        "    class_mode='categorical',\n",
        "    shuffle=True\n",
        ")\n",
        "\n",
        "val_set = datagen_val.flow_from_directory(\n",
        "    test_data_dir,\n",
        "\n",
        "    target_size=(picture_size, picture_size),\n",
        "    color_mode=\"grayscale\",\n",
        "    batch_size=batch_size,\n",
        "    class_mode='categorical',\n",
        "    shuffle=False\n",
        ")\n",
        "\n"
      ]
    },
    {
      "cell_type": "markdown",
      "metadata": {
        "id": "5w3AALkQMjTc"
      },
      "source": [
        "## Step 3 - Model"
      ]
    },
    {
      "cell_type": "code",
      "execution_count": 6,
      "metadata": {
        "id": "D9-x5qeIMmel"
      },
      "outputs": [],
      "source": [
        "model = Sequential(\n",
        "    [\n",
        "        Conv2D(128, (3,3), 1,  activation = 'relu', padding='same', input_shape = (picture_size, picture_size, 1)),\n",
        "        MaxPooling2D(pool_size=(2, 2)),\n",
        "        Dropout(0.25),\n",
        "        BatchNormalization(),\n",
        "\n",
        "        Conv2D(256, (3,3), 1,  activation = 'relu', padding='same'),\n",
        "        BatchNormalization(),\n",
        "        MaxPooling2D(),\n",
        "        Dropout(0.25),\n",
        "\n",
        "        Conv2D(512, (3,3), 1,  activation = 'relu', padding='same'),\n",
        "        BatchNormalization(),\n",
        "        MaxPooling2D(),\n",
        "        Dropout(0.25),\n",
        "\n",
        "        Conv2D(256, (3,3), 1,  activation = 'relu', padding='same'),\n",
        "        BatchNormalization(),\n",
        "        MaxPooling2D(),\n",
        "        Dropout(0.25),\n",
        "\n",
        "        Conv2D(128, (3,3), 1,  activation = 'relu', padding='same'),\n",
        "        BatchNormalization(),\n",
        "        MaxPooling2D(),\n",
        "        Dropout(0.25),\n",
        "\n",
        "        Flatten(),\n",
        "\n",
        "        Dense(512, activation = 'relu'),\n",
        "        Dense(7, activation = 'softmax')\n",
        "    ]\n",
        ")"
      ]
    },
    {
      "cell_type": "code",
      "execution_count": 7,
      "metadata": {
        "id": "WugAw5205Zcs"
      },
      "outputs": [],
      "source": [
        "# model.compile(\n",
        "#     optimizer = Adam(learning_rate = 0.01),\n",
        "#     loss=tf.keras.losses.CategoricalCrossentropy(from_logits=True),\n",
        "#     metrics=['accuracy']\n",
        "# )"
      ]
    },
    {
      "cell_type": "code",
      "execution_count": 8,
      "metadata": {
        "id": "E8aNblDNQvWO"
      },
      "outputs": [],
      "source": [
        "# model.summary()"
      ]
    },
    {
      "cell_type": "code",
      "execution_count": 9,
      "metadata": {
        "id": "Vrndyi1jRMlq"
      },
      "outputs": [],
      "source": [
        "# log_dir = '/content/gdrive/MyDrive/Human emotions/Logs'\n",
        "# tensorboard_callback = tf.keras.callbacks.TensorBoard(log_dir = log_dir)"
      ]
    },
    {
      "cell_type": "code",
      "execution_count": 10,
      "metadata": {
        "id": "YI2C6yBW5Axh"
      },
      "outputs": [],
      "source": [
        "# early_stopping = EarlyStopping(patience=5, monitor='val_loss', restore_best_weights=True)\n",
        "# reduce_lr = ReduceLROnPlateau(factor=0.1, patience=3, monitor='val_loss', min_lr=0.00001)"
      ]
    },
    {
      "cell_type": "code",
      "execution_count": 11,
      "metadata": {
        "id": "avgsQBkbU3Pz"
      },
      "outputs": [],
      "source": [
        "# history = model.fit(\n",
        "#     train_set,\n",
        "#     epochs=2,\n",
        "#     validation_data=val_set,\n",
        "#     callbacks=[early_stopping, reduce_lr]\n",
        "# )"
      ]
    },
    {
      "cell_type": "code",
      "execution_count": 12,
      "metadata": {
        "id": "c9H9mYj1VQDz"
      },
      "outputs": [],
      "source": [
        "loaded_model = load_model('/content/gdrive/MyDrive/Human emotions/val_acc_61', compile=False)\n",
        "\n",
        "loaded_model.compile(optimizer=Adam(learning_rate=0.01), loss=CategoricalCrossentropy(from_logits=True), metrics=['accuracy'])"
      ]
    },
    {
      "cell_type": "code",
      "execution_count": 13,
      "metadata": {
        "id": "urm2_uXx61bh"
      },
      "outputs": [],
      "source": [
        "# predictions = loaded_model.predict(val_set)"
      ]
    },
    {
      "cell_type": "code",
      "execution_count": 14,
      "metadata": {
        "id": "ox0Zk0BM64Em"
      },
      "outputs": [],
      "source": [
        "# predicted_classes = np.argmax(predictions, axis=1)"
      ]
    },
    {
      "cell_type": "code",
      "execution_count": 15,
      "metadata": {
        "id": "Dlv4q3R8EKQY"
      },
      "outputs": [],
      "source": [
        "# accuracy = loaded_model.evaluate(val_set)[1]"
      ]
    },
    {
      "cell_type": "code",
      "source": [
        "def image_test(image_path):\n",
        "  image = cv2.imread(image_path)\n",
        "  img = cv2.cvtColor(image, cv2.COLOR_BGR2GRAY)\n",
        "  img = cv2.resize(img, (48, 48))\n",
        "  img_array = img_to_array(img)\n",
        "  img_array = np.expand_dims(img_array, axis=0)\n",
        "  img_array /= 255.0\n",
        "  return img, img_array"
      ],
      "metadata": {
        "id": "mbbWGnoZMunt"
      },
      "execution_count": 58,
      "outputs": []
    },
    {
      "cell_type": "code",
      "source": [
        "image_path = '/content/Photo on 8-11-23 at 10.40 PM.jpg'\n",
        "img, img_array = image_test(image_path)"
      ],
      "metadata": {
        "id": "kn1y3-BsNweX"
      },
      "execution_count": 59,
      "outputs": []
    },
    {
      "cell_type": "code",
      "source": [
        "predictions = loaded_model.predict(img_array)\n",
        "predicted_class = np.argmax(predictions[0])\n",
        "emotion_labels = ['Angry', 'Disgust', 'Fear', 'Happy', 'Sad', 'Surprise', 'Neutral']\n",
        "predicted_emotion = emotion_labels[predicted_class]\n",
        "predicted_emotion"
      ],
      "metadata": {
        "colab": {
          "base_uri": "https://localhost:8080/",
          "height": 53
        },
        "id": "_M6_l0OVNwrB",
        "outputId": "05528344-892b-4272-f1a2-de53b0568c58"
      },
      "execution_count": 60,
      "outputs": [
        {
          "output_type": "stream",
          "name": "stdout",
          "text": [
            "1/1 [==============================] - 0s 67ms/step\n"
          ]
        },
        {
          "output_type": "execute_result",
          "data": {
            "text/plain": [
              "'Sad'"
            ],
            "application/vnd.google.colaboratory.intrinsic+json": {
              "type": "string"
            }
          },
          "metadata": {},
          "execution_count": 60
        }
      ]
    },
    {
      "cell_type": "code",
      "source": [
        "plt.imshow(img)\n",
        "plt.title(predicted_emotion)\n",
        "plt.axis('off')\n",
        "plt.show()"
      ],
      "metadata": {
        "id": "tpd1E82HNwzs",
        "colab": {
          "base_uri": "https://localhost:8080/",
          "height": 420
        },
        "outputId": "b3752bb1-54ec-4d26-c051-83fa3a0dd121"
      },
      "execution_count": 57,
      "outputs": [
        {
          "output_type": "display_data",
          "data": {
            "text/plain": [
              "<Figure size 640x480 with 1 Axes>"
            ],
            "image/png": "[encoded data removed]"
          },
          "metadata": {}
        }
      ]
    },
    {
      "cell_type": "markdown",
      "metadata": {
        "id": "UipXiROVwc-D"
      },
      "source": [
        "## Trying to make it work with video frames"
      ]
    },
    {
      "cell_type": "code",
      "source": [],
      "metadata": {
        "id": "RcfjIsulNvh8"
      },
      "execution_count": null,
      "outputs": []
    },
    {
      "cell_type": "code",
      "execution_count": null,
      "metadata": {
        "id": "KTa5oDp-w0K7"
      },
      "outputs": [],
      "source": []
    }
  ],
  "metadata": {
    "colab": {
      "provenance": [],
      "authorship_tag": "ABX9TyOuwW6CDV3y7h5H5sgtgsuB",
      "include_colab_link": true
    },
    "kernelspec": {
      "display_name": "Python 3",
      "name": "python3"
    },
    "language_info": {
      "name": "python"
    }
  },
  "nbformat": 4,
  "nbformat_minor": 0
}