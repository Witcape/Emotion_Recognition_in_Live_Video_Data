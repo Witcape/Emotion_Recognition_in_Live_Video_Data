{
  "cells": [
    {
      "cell_type": "markdown",
      "metadata": {
        "id": "view-in-github",
        "colab_type": "text"
      },
      "source": [
        "<a href=\"https://colab.research.google.com/github/Witcape/Emotion_Recognition_in_Live_Video_Data/blob/main/Emotion_Recognition_in_Video_Data.ipynb\" target=\"_parent\"><img src=\"https://colab.research.google.com/assets/colab-badge.svg\" alt=\"Open In Colab\"/></a>"
      ]
    },
    {
      "cell_type": "markdown",
      "metadata": {
        "id": "DcLBknbhLn00"
      },
      "source": [
        "### STEP 1 - Import all the Libraries and google drive"
      ]
    },
    {
      "cell_type": "code",
      "execution_count": 24,
      "metadata": {
        "id": "HsNtUV7wy2_X"
      },
      "outputs": [],
      "source": [
        "from sympy import *\n",
        "import numpy as np\n",
        "import matplotlib.pyplot as plt\n",
        "import ipywidgets as widgets\n",
        "import sklearn\n",
        "import tensorflow as tf\n",
        "import pandas as pd\n",
        "import sklearn\n",
        "from tensorflow.keras.models import Sequential, load_model\n",
        "from tensorflow.keras.losses import SparseCategoricalCrossentropy,CategoricalCrossentropy\n",
        "\n",
        "from tensorflow.keras.layers import Dense, Conv2D, MaxPooling2D, Flatten, Dropout, BatchNormalization\n",
        "from tensorflow.keras.activations import linear,relu,sigmoid\n",
        "import cv2\n",
        "import os\n",
        "import PIL\n",
        "import pathlib\n",
        "from sklearn.preprocessing import LabelEncoder, OneHotEncoder\n",
        "from tensorflow.keras.optimizers import Adam\n",
        "from keras.callbacks import EarlyStopping, ReduceLROnPlateau\n",
        "from tensorflow.keras.preprocessing.image import ImageDataGenerator\n",
        "import tensorflow_datasets as tfds"
      ]
    },
    {
      "cell_type": "code",
      "execution_count": 13,
      "metadata": {
        "colab": {
          "base_uri": "https://localhost:8080/"
        },
        "id": "5aLgwauVTsBV",
        "outputId": "203693c4-9a07-494c-ed5b-6c3033db460a"
      },
      "outputs": [
        {
          "output_type": "stream",
          "name": "stdout",
          "text": [
            "Mounted at /content/gdrive\n"
          ]
        }
      ],
      "source": [
        "\n",
        "from google.colab import drive\n",
        "drive.mount('/content/gdrive')"
      ]
    },
    {
      "cell_type": "markdown",
      "metadata": {
        "id": "8G-RZ8UGMZ1E"
      },
      "source": [
        "## Step 2 - Loading Data & Preprocessing"
      ]
    },
    {
      "cell_type": "code",
      "execution_count": 2,
      "metadata": {
        "id": "FtdQSKfJHTy9"
      },
      "outputs": [],
      "source": [
        "train_data_dir = '/content/gdrive/MyDrive/Human emotions/train'\n",
        "test_data_dir = '/content/gdrive/MyDrive/Human emotions/test'"
      ]
    },
    {
      "cell_type": "code",
      "execution_count": 3,
      "metadata": {
        "id": "0kuveCwiDUM9"
      },
      "outputs": [],
      "source": [
        "picture_size = 48\n",
        "batch_size = 32\n",
        "no_of_classes = 7\n",
        "epochs = 20\n",
        "\n",
        "datagen_train = ImageDataGenerator (\n",
        "                                    rescale=1./255,\n",
        "                                    validation_split=0.2\n",
        "                                    )\n",
        "\n",
        "datagen_val   = ImageDataGenerator (\n",
        "                                    rescale=1./255\n",
        "                                    )\n",
        "datagen_test   = ImageDataGenerator (\n",
        "                                    rescale=1./255\n",
        "                                    )"
      ]
    },
    {
      "cell_type": "code",
      "execution_count": 14,
      "metadata": {
        "colab": {
          "base_uri": "https://localhost:8080/"
        },
        "id": "bfaBuNmgROfH",
        "outputId": "ae27d84f-a69b-488f-ecdd-625595f2cf23"
      },
      "outputs": [
        {
          "output_type": "stream",
          "name": "stdout",
          "text": [
            "Found 29031 images belonging to 7 classes.\n",
            "Found 7378 images belonging to 7 classes.\n"
          ]
        }
      ],
      "source": [
        "train_set = datagen_train.flow_from_directory(\n",
        "    train_data_dir,\n",
        "    target_size=(picture_size, picture_size),\n",
        "    color_mode=\"grayscale\",\n",
        "    batch_size=batch_size,\n",
        "    class_mode='categorical',\n",
        "    shuffle=True\n",
        ")\n",
        "\n",
        "val_set = datagen_val.flow_from_directory(\n",
        "    test_data_dir,\n",
        "\n",
        "    target_size=(picture_size, picture_size),\n",
        "    color_mode=\"grayscale\",\n",
        "    batch_size=batch_size,\n",
        "    class_mode='categorical',\n",
        "    shuffle=False\n",
        ")\n",
        "\n"
      ]
    },
    {
      "cell_type": "markdown",
      "metadata": {
        "id": "5w3AALkQMjTc"
      },
      "source": [
        "## Step 3 - Model"
      ]
    },
    {
      "cell_type": "code",
      "execution_count": 15,
      "metadata": {
        "id": "D9-x5qeIMmel"
      },
      "outputs": [],
      "source": [
        "model = Sequential(\n",
        "    [\n",
        "        Conv2D(128, (3,3), 1,  activation = 'relu', padding='same', input_shape = (picture_size, picture_size, 1)),\n",
        "        MaxPooling2D(pool_size=(2, 2)),\n",
        "        Dropout(0.25),\n",
        "        BatchNormalization(),\n",
        "\n",
        "        Conv2D(256, (3,3), 1,  activation = 'relu', padding='same'),\n",
        "        BatchNormalization(),\n",
        "        MaxPooling2D(),\n",
        "        Dropout(0.25),\n",
        "\n",
        "        Conv2D(512, (3,3), 1,  activation = 'relu', padding='same'),\n",
        "        BatchNormalization(),\n",
        "        MaxPooling2D(),\n",
        "        Dropout(0.25),\n",
        "\n",
        "        Conv2D(256, (3,3), 1,  activation = 'relu', padding='same'),\n",
        "        BatchNormalization(),\n",
        "        MaxPooling2D(),\n",
        "        Dropout(0.25),\n",
        "\n",
        "        Conv2D(128, (3,3), 1,  activation = 'relu', padding='same'),\n",
        "        BatchNormalization(),\n",
        "        MaxPooling2D(),\n",
        "        Dropout(0.25),\n",
        "\n",
        "        Flatten(),\n",
        "\n",
        "        Dense(512, activation = 'relu'),\n",
        "        Dense(7, activation = 'softmax')\n",
        "    ]\n",
        ")"
      ]
    },
    {
      "cell_type": "code",
      "execution_count": 16,
      "metadata": {
        "id": "WugAw5205Zcs"
      },
      "outputs": [],
      "source": [
        "# model.compile(\n",
        "#     optimizer = Adam(learning_rate = 0.01),\n",
        "#     loss=tf.keras.losses.CategoricalCrossentropy(from_logits=True),\n",
        "#     metrics=['accuracy']\n",
        "# )"
      ]
    },
    {
      "cell_type": "code",
      "execution_count": 17,
      "metadata": {
        "id": "E8aNblDNQvWO"
      },
      "outputs": [],
      "source": [
        "# model.summary()"
      ]
    },
    {
      "cell_type": "code",
      "execution_count": 18,
      "metadata": {
        "id": "Vrndyi1jRMlq"
      },
      "outputs": [],
      "source": [
        "log_dir = '/content/gdrive/MyDrive/Human emotions/Logs'\n",
        "tensorboard_callback = tf.keras.callbacks.TensorBoard(log_dir = log_dir)"
      ]
    },
    {
      "cell_type": "code",
      "execution_count": 19,
      "metadata": {
        "id": "YI2C6yBW5Axh"
      },
      "outputs": [],
      "source": [
        "early_stopping = EarlyStopping(patience=5, monitor='val_loss', restore_best_weights=True)\n",
        "reduce_lr = ReduceLROnPlateau(factor=0.1, patience=3, monitor='val_loss', min_lr=0.00001)"
      ]
    },
    {
      "cell_type": "code",
      "execution_count": 20,
      "metadata": {
        "id": "avgsQBkbU3Pz"
      },
      "outputs": [],
      "source": [
        "# history = model.fit(\n",
        "#     train_set,\n",
        "#     epochs=2,\n",
        "#     validation_data=val_set,\n",
        "#     callbacks=[early_stopping, reduce_lr]\n",
        "# )"
      ]
    },
    {
      "cell_type": "code",
      "execution_count": 25,
      "metadata": {
        "id": "c9H9mYj1VQDz"
      },
      "outputs": [],
      "source": [
        "loaded_model = load_model('/content/gdrive/MyDrive/Human emotions/val_acc_61', compile=False)\n",
        "\n",
        "loaded_model.compile(optimizer=Adam(learning_rate=0.01), loss=CategoricalCrossentropy(from_logits=True), metrics=['accuracy'])"
      ]
    },
    {
      "cell_type": "code",
      "execution_count": null,
      "metadata": {
        "colab": {
          "base_uri": "https://localhost:8080/"
        },
        "id": "urm2_uXx61bh",
        "outputId": "a5959059-27e5-48e8-e65d-4e8c011e40b4"
      },
      "outputs": [
        {
          "output_type": "stream",
          "name": "stdout",
          "text": [
            "213/231 [==========================>...] - ETA: 4:53"
          ]
        }
      ],
      "source": [
        "predictions = loaded_model.predict(val_set)"
      ]
    },
    {
      "cell_type": "code",
      "execution_count": 29,
      "metadata": {
        "id": "ox0Zk0BM64Em"
      },
      "outputs": [],
      "source": [
        "predicted_classes = np.argmax(predictions, axis=1)"
      ]
    },
    {
      "cell_type": "code",
      "execution_count": 30,
      "metadata": {
        "id": "Dlv4q3R8EKQY",
        "colab": {
          "base_uri": "https://localhost:8080/"
        },
        "outputId": "dbf372e0-37e9-4d3a-915e-57669066ec54"
      },
      "outputs": [
        {
          "output_type": "stream",
          "name": "stdout",
          "text": [
            "231/231 [==============================] - 136s 591ms/step - loss: 1.0855 - accuracy: 0.6036\n"
          ]
        }
      ],
      "source": [
        "accuracy = loaded_model.evaluate(val_set)[1]"
      ]
    },
    {
      "cell_type": "code",
      "execution_count": null,
      "metadata": {
        "colab": {
          "base_uri": "https://localhost:8080/"
        },
        "id": "1IOtZX79NErX",
        "outputId": "27d1fc29-e1a5-49cf-c6b9-b5c9c27b9126"
      },
      "outputs": [
        {
          "output_type": "stream",
          "name": "stdout",
          "text": [
            " 82/231 [=========>....................] - ETA: 1:22 - loss: 1.3650 - accuracy: 0.4653"
          ]
        }
      ],
      "source": [
        "# Evaluate the model on the test dataset with the specified batch size\n",
        "evaluation = loaded_model.evaluate(val_set, batch_size=len(val_set))\n",
        "\n",
        "# The evaluate method returns the loss and all the metrics specified during compilation.\n",
        "accuracy = evaluation[1]\n",
        "\n",
        "print(\"Test Accuracy:\", accuracy)\n"
      ]
    },
    {
      "cell_type": "markdown",
      "metadata": {
        "id": "UipXiROVwc-D"
      },
      "source": [
        "## Trying to make it work with video frames"
      ]
    },
    {
      "cell_type": "code",
      "execution_count": null,
      "metadata": {
        "id": "KTa5oDp-w0K7"
      },
      "outputs": [],
      "source": []
    }
  ],
  "metadata": {
    "colab": {
      "provenance": [],
      "authorship_tag": "ABX9TyPIaT1mBMbkCIVv4xcEnIeM",
      "include_colab_link": true
    },
    "kernelspec": {
      "display_name": "Python 3",
      "name": "python3"
    },
    "language_info": {
      "name": "python"
    }
  },
  "nbformat": 4,
  "nbformat_minor": 0
}