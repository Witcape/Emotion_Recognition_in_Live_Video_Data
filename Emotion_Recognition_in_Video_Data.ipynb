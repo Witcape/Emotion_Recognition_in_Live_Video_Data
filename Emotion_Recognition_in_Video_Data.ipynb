{
  "nbformat": 4,
  "nbformat_minor": 0,
  "metadata": {
    "colab": {
      "provenance": [],
      "authorship_tag": "ABX9TyOfwYs3CzZd+/nhvi9sYb31",
      "include_colab_link": true
    },
    "kernelspec": {
      "name": "python3",
      "display_name": "Python 3"
    },
    "language_info": {
      "name": "python"
    }
  },
  "cells": [
    {
      "cell_type": "markdown",
      "metadata": {
        "id": "view-in-github",
        "colab_type": "text"
      },
      "source": [
        "<a href=\"https://colab.research.google.com/github/Witcape/Emotion_Recognition_in_Live_Video_Data/blob/main/Emotion_Recognition_in_Video_Data.ipynb\" target=\"_parent\"><img src=\"https://colab.research.google.com/assets/colab-badge.svg\" alt=\"Open In Colab\"/></a>"
      ]
    },
    {
      "cell_type": "code",
      "execution_count": null,
      "metadata": {
        "id": "HsNtUV7wy2_X"
      },
      "outputs": [],
      "source": [
        "#Importing all the required libraries\n",
        "from sympy import *\n",
        "import numpy as np\n",
        "import matplotlib.pyplot as plt\n",
        "import ipywidgets as widgets\n",
        "import sklearn\n",
        "import tensorflow as tf\n",
        "import pandas as pd\n",
        "import sklearn\n",
        "from tensorflow.keras.models import Sequential\n",
        "from tensorflow.keras.layers import Dense\n",
        "from tensorflow.keras.activations import linear,relu,sigmoid"
      ]
    },
    {
      "cell_type": "code",
      "source": [
        "x1_demo = np.random.rand(1000)\n",
        "x2_demo = np.random.rand(1000)\n",
        "x3_demo = np.random.rand(1000)\n",
        "x4_demo = np.random.rand(1000)\n",
        "x5_demo = np.random.rand(1000)\n",
        "y_demo = np.random.rand(1000)\n",
        "x1_demo = np.array(x1_demo)\n",
        "x2_demo = np.array(x2_demo)\n",
        "x3_demo = np.array(x3_demo)\n",
        "x4_demo = np.array(x4_demo)\n",
        "x5_demo = np.array(x5_demo)\n",
        "input_data = np.column_stack((x1_demo, x2_demo, x3_demo, x4_demo, x5_demo))\n",
        "y_demo = np.array(y_demo)"
      ],
      "metadata": {
        "id": "e_T1nDrSzB2D"
      },
      "execution_count": 104,
      "outputs": []
    },
    {
      "cell_type": "code",
      "source": [
        "model = Sequential(\n",
        "    [\n",
        "        tf.keras.Input(shape = (5,)),\n",
        "        Dense(25, activation = 'relu'),\n",
        "        Dense(10, activation = 'relu'),\n",
        "        Dense(1, activation = 'linear')\n",
        "    ]\n",
        ")\n"
      ],
      "metadata": {
        "id": "VlYHRmbIlENp"
      },
      "execution_count": 106,
      "outputs": []
    },
    {
      "cell_type": "code",
      "source": [
        "y_demo.shape"
      ],
      "metadata": {
        "colab": {
          "base_uri": "https://localhost:8080/"
        },
        "id": "7c2TfVzy4JtC",
        "outputId": "99e5391b-7e72-4475-868b-408e63db500c"
      },
      "execution_count": 107,
      "outputs": [
        {
          "output_type": "execute_result",
          "data": {
            "text/plain": [
              "(1000,)"
            ]
          },
          "metadata": {},
          "execution_count": 107
        }
      ]
    },
    {
      "cell_type": "code",
      "source": [
        "model.summary()"
      ],
      "metadata": {
        "id": "QuUc9ef9lFiU",
        "colab": {
          "base_uri": "https://localhost:8080/"
        },
        "outputId": "3af645d5-3a8e-414f-c431-95f1ecbe3842"
      },
      "execution_count": 108,
      "outputs": [
        {
          "output_type": "stream",
          "name": "stdout",
          "text": [
            "Model: \"sequential_18\"\n",
            "_________________________________________________________________\n",
            " Layer (type)                Output Shape              Param #   \n",
            "=================================================================\n",
            " dense_48 (Dense)            (None, 25)                150       \n",
            "                                                                 \n",
            " dense_49 (Dense)            (None, 10)                260       \n",
            "                                                                 \n",
            " dense_50 (Dense)            (None, 1)                 11        \n",
            "                                                                 \n",
            "=================================================================\n",
            "Total params: 421\n",
            "Trainable params: 421\n",
            "Non-trainable params: 0\n",
            "_________________________________________________________________\n"
          ]
        }
      ]
    },
    {
      "cell_type": "code",
      "source": [
        "model.compile(\n",
        "   optimizer = tf.keras.optimizers.Adam(learning_rate = 0.01),\n",
        "   loss='mean_squared_error'\n",
        "   )\n",
        "history = model.fit(\n",
        "    input_data,y_demo,\n",
        "    epochs=40\n",
        ")"
      ],
      "metadata": {
        "colab": {
          "base_uri": "https://localhost:8080/"
        },
        "id": "lJ3gM0z1ZD0G",
        "outputId": "e99b478d-165c-4afa-b1cb-2785f7e12786"
      },
      "execution_count": 110,
      "outputs": [
        {
          "output_type": "stream",
          "name": "stdout",
          "text": [
            "Epoch 1/40\n",
            "32/32 [==============================] - 0s 1ms/step - loss: 0.0858\n",
            "Epoch 2/40\n",
            "32/32 [==============================] - 0s 1ms/step - loss: 0.0824\n",
            "Epoch 3/40\n",
            "32/32 [==============================] - 0s 1ms/step - loss: 0.0821\n",
            "Epoch 4/40\n",
            "32/32 [==============================] - 0s 1ms/step - loss: 0.0822\n",
            "Epoch 5/40\n",
            "32/32 [==============================] - 0s 1ms/step - loss: 0.0805\n",
            "Epoch 6/40\n",
            "32/32 [==============================] - 0s 2ms/step - loss: 0.0785\n",
            "Epoch 7/40\n",
            "32/32 [==============================] - 0s 2ms/step - loss: 0.0805\n",
            "Epoch 8/40\n",
            "32/32 [==============================] - 0s 2ms/step - loss: 0.0805\n",
            "Epoch 9/40\n",
            "32/32 [==============================] - 0s 1ms/step - loss: 0.0800\n",
            "Epoch 10/40\n",
            "32/32 [==============================] - 0s 2ms/step - loss: 0.0805\n",
            "Epoch 11/40\n",
            "32/32 [==============================] - 0s 2ms/step - loss: 0.0784\n",
            "Epoch 12/40\n",
            "32/32 [==============================] - 0s 1ms/step - loss: 0.0812\n",
            "Epoch 13/40\n",
            "32/32 [==============================] - 0s 2ms/step - loss: 0.0794\n",
            "Epoch 14/40\n",
            "32/32 [==============================] - 0s 1ms/step - loss: 0.0797\n",
            "Epoch 15/40\n",
            "32/32 [==============================] - 0s 1ms/step - loss: 0.0792\n",
            "Epoch 16/40\n",
            "32/32 [==============================] - 0s 1ms/step - loss: 0.0799\n",
            "Epoch 17/40\n",
            "32/32 [==============================] - 0s 2ms/step - loss: 0.0797\n",
            "Epoch 18/40\n",
            "32/32 [==============================] - 0s 1ms/step - loss: 0.0788\n",
            "Epoch 19/40\n",
            "32/32 [==============================] - 0s 2ms/step - loss: 0.0794\n",
            "Epoch 20/40\n",
            "32/32 [==============================] - 0s 1ms/step - loss: 0.0774\n",
            "Epoch 21/40\n",
            "32/32 [==============================] - 0s 1ms/step - loss: 0.0771\n",
            "Epoch 22/40\n",
            "32/32 [==============================] - 0s 2ms/step - loss: 0.0799\n",
            "Epoch 23/40\n",
            "32/32 [==============================] - 0s 1ms/step - loss: 0.0770\n",
            "Epoch 24/40\n",
            "32/32 [==============================] - 0s 1ms/step - loss: 0.0792\n",
            "Epoch 25/40\n",
            "32/32 [==============================] - 0s 1ms/step - loss: 0.0773\n",
            "Epoch 26/40\n",
            "32/32 [==============================] - 0s 2ms/step - loss: 0.0790\n",
            "Epoch 27/40\n",
            "32/32 [==============================] - 0s 2ms/step - loss: 0.0780\n",
            "Epoch 28/40\n",
            "32/32 [==============================] - 0s 2ms/step - loss: 0.0786\n",
            "Epoch 29/40\n",
            "32/32 [==============================] - 0s 1ms/step - loss: 0.0773\n",
            "Epoch 30/40\n",
            "32/32 [==============================] - 0s 1ms/step - loss: 0.0796\n",
            "Epoch 31/40\n",
            "32/32 [==============================] - 0s 1ms/step - loss: 0.0780\n",
            "Epoch 32/40\n",
            "32/32 [==============================] - 0s 1ms/step - loss: 0.0774\n",
            "Epoch 33/40\n",
            "32/32 [==============================] - 0s 1ms/step - loss: 0.0787\n",
            "Epoch 34/40\n",
            "32/32 [==============================] - 0s 1ms/step - loss: 0.0779\n",
            "Epoch 35/40\n",
            "32/32 [==============================] - 0s 1ms/step - loss: 0.0769\n",
            "Epoch 36/40\n",
            "32/32 [==============================] - 0s 1ms/step - loss: 0.0764\n",
            "Epoch 37/40\n",
            "32/32 [==============================] - 0s 1ms/step - loss: 0.0773\n",
            "Epoch 38/40\n",
            "32/32 [==============================] - 0s 1ms/step - loss: 0.0775\n",
            "Epoch 39/40\n",
            "32/32 [==============================] - 0s 1ms/step - loss: 0.0767\n",
            "Epoch 40/40\n",
            "32/32 [==============================] - 0s 1ms/step - loss: 0.0767\n"
          ]
        }
      ]
    },
    {
      "cell_type": "code",
      "source": [],
      "metadata": {
        "id": "Gd4lhKEEaNlA"
      },
      "execution_count": null,
      "outputs": []
    }
  ]
}