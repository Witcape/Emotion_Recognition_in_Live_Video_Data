{
  "cells": [
    {
      "cell_type": "markdown",
      "metadata": {
        "id": "view-in-github",
        "colab_type": "text"
      },
      "source": [
        "<a href=\"https://colab.research.google.com/github/Witcape/Emotion_Recognition_in_Live_Video_Data/blob/main/Emotion_Recognition_in_Video_Data.ipynb\" target=\"_parent\"><img src=\"https://colab.research.google.com/assets/colab-badge.svg\" alt=\"Open In Colab\"/></a>"
      ]
    },
    {
      "cell_type": "markdown",
      "metadata": {
        "id": "DcLBknbhLn00"
      },
      "source": [
        "### STEP 1 - Import all the Libraries and google drive"
      ]
    },
    {
      "cell_type": "code",
      "execution_count": 1,
      "metadata": {
        "id": "HsNtUV7wy2_X"
      },
      "outputs": [],
      "source": [
        "from sympy import *\n",
        "import numpy as np\n",
        "import matplotlib.pyplot as plt\n",
        "import ipywidgets as widgets\n",
        "import sklearn\n",
        "import tensorflow as tf\n",
        "import pandas as pd\n",
        "import sklearn\n",
        "from tensorflow.keras.models import Sequential\n",
        "from tensorflow.keras.layers import Dense, Conv2D, MaxPooling2D, Flatten\n",
        "from tensorflow.keras.activations import linear,relu,sigmoid\n",
        "import cv2\n",
        "import os\n",
        "from sklearn.preprocessing import LabelEncoder, OneHotEncoder"
      ]
    },
    {
      "cell_type": "code",
      "execution_count": 2,
      "metadata": {
        "colab": {
          "base_uri": "https://localhost:8080/"
        },
        "id": "5aLgwauVTsBV",
        "outputId": "1e36c21c-7f4b-4e84-fccd-39d9e9b7b8a9"
      },
      "outputs": [
        {
          "output_type": "stream",
          "name": "stdout",
          "text": [
            "Mounted at /content/gdrive\n"
          ]
        }
      ],
      "source": [
        "from google.colab import drive\n",
        "drive.mount('/content/gdrive')"
      ]
    },
    {
      "cell_type": "code",
      "execution_count": null,
      "metadata": {
        "colab": {
          "base_uri": "https://localhost:8080/",
          "height": 236
        },
        "id": "8rLSeQYHTVPz",
        "outputId": "e7d60cfe-3a51-49b3-b718-a58a5fcf25e0"
      },
      "outputs": [
        {
          "output_type": "error",
          "ename": "NameError",
          "evalue": "ignored",
          "traceback": [
            "\u001b[0;31m---------------------------------------------------------------------------\u001b[0m",
            "\u001b[0;31mNameError\u001b[0m                                 Traceback (most recent call last)",
            "\u001b[0;32m<ipython-input-3-5cf0657b1e82>\u001b[0m in \u001b[0;36m<cell line: 1>\u001b[0;34m()\u001b[0m\n\u001b[0;32m----> 1\u001b[0;31m \u001b[0mloss\u001b[0m \u001b[0;34m=\u001b[0m \u001b[0mhistory\u001b[0m\u001b[0;34m.\u001b[0m\u001b[0mhistory\u001b[0m\u001b[0;34m[\u001b[0m\u001b[0;34m'loss'\u001b[0m\u001b[0;34m]\u001b[0m\u001b[0;34m\u001b[0m\u001b[0;34m\u001b[0m\u001b[0m\n\u001b[0m\u001b[1;32m      2\u001b[0m \u001b[0mepochs\u001b[0m \u001b[0;34m=\u001b[0m \u001b[0mrange\u001b[0m\u001b[0;34m(\u001b[0m\u001b[0;36m1\u001b[0m\u001b[0;34m,\u001b[0m \u001b[0mlen\u001b[0m\u001b[0;34m(\u001b[0m\u001b[0mloss\u001b[0m\u001b[0;34m)\u001b[0m \u001b[0;34m+\u001b[0m \u001b[0;36m1\u001b[0m\u001b[0;34m)\u001b[0m\u001b[0;34m\u001b[0m\u001b[0;34m\u001b[0m\u001b[0m\n\u001b[1;32m      3\u001b[0m \u001b[0;34m\u001b[0m\u001b[0m\n\u001b[1;32m      4\u001b[0m \u001b[0mplt\u001b[0m\u001b[0;34m.\u001b[0m\u001b[0mplot\u001b[0m\u001b[0;34m(\u001b[0m\u001b[0mepochs\u001b[0m\u001b[0;34m,\u001b[0m \u001b[0mloss\u001b[0m\u001b[0;34m,\u001b[0m \u001b[0mlabel\u001b[0m\u001b[0;34m=\u001b[0m\u001b[0;34m'Training Loss'\u001b[0m\u001b[0;34m)\u001b[0m\u001b[0;34m\u001b[0m\u001b[0;34m\u001b[0m\u001b[0m\n\u001b[1;32m      5\u001b[0m \u001b[0mplt\u001b[0m\u001b[0;34m.\u001b[0m\u001b[0mxlabel\u001b[0m\u001b[0;34m(\u001b[0m\u001b[0;34m'Epochs'\u001b[0m\u001b[0;34m)\u001b[0m\u001b[0;34m\u001b[0m\u001b[0;34m\u001b[0m\u001b[0m\n",
            "\u001b[0;31mNameError\u001b[0m: name 'history' is not defined"
          ]
        }
      ],
      "source": [
        "loss = history.history['loss']\n",
        "epochs = range(1, len(loss) + 1)\n",
        "\n",
        "plt.plot(epochs, loss, label='Training Loss')\n",
        "plt.xlabel('Epochs')\n",
        "plt.ylabel('Loss')\n",
        "plt.legend()\n",
        "plt.show()"
      ]
    },
    {
      "cell_type": "markdown",
      "metadata": {
        "id": "8G-RZ8UGMZ1E"
      },
      "source": [
        "## Step 2 - Loading Data & Preprocessing"
      ]
    },
    {
      "cell_type": "code",
      "execution_count": 3,
      "metadata": {
        "id": "FtdQSKfJHTy9"
      },
      "outputs": [],
      "source": [
        "train_data_dir = '/content/gdrive/MyDrive/Human emotions/train'\n",
        "test_data_dir = '/content/gdrive/MyDrive/Human emotions/test'"
      ]
    },
    {
      "cell_type": "code",
      "execution_count": 4,
      "metadata": {
        "colab": {
          "base_uri": "https://localhost:8080/"
        },
        "id": "KckQ2LmfIFBQ",
        "outputId": "8fd17379-87a8-433f-9e07-96bdcac8c9b9"
      },
      "outputs": [
        {
          "output_type": "stream",
          "name": "stdout",
          "text": [
            "Found 29031 files belonging to 7 classes.\n",
            "Found 7378 files belonging to 7 classes.\n"
          ]
        }
      ],
      "source": [
        "train_data = tf.keras.utils.image_dataset_from_directory(train_data_dir)\n",
        "test_data = tf.keras.utils.image_dataset_from_directory(test_data_dir)"
      ]
    },
    {
      "cell_type": "code",
      "execution_count": 5,
      "metadata": {
        "id": "7c0SXHPrLD-3"
      },
      "outputs": [],
      "source": [
        "train_data_iterator = train_data.as_numpy_iterator()\n",
        "test_data_iterator = test_data.as_numpy_iterator()"
      ]
    },
    {
      "cell_type": "code",
      "execution_count": 6,
      "metadata": {
        "id": "xF513W62MMSu"
      },
      "outputs": [],
      "source": [
        "train_batch = train_data_iterator.next()\n",
        "test_batch = test_data_iterator.next()"
      ]
    },
    {
      "cell_type": "code",
      "execution_count": 7,
      "metadata": {
        "colab": {
          "base_uri": "https://localhost:8080/"
        },
        "id": "gC0T16qwMVRx",
        "outputId": "95f6eb75-9e1a-4946-e5f0-c9b4636e1559"
      },
      "outputs": [
        {
          "output_type": "execute_result",
          "data": {
            "text/plain": [
              "(array([[[[ 34.,  34.,  34.],\n",
              "          [ 34.,  34.,  34.],\n",
              "          [ 34.,  34.,  34.],\n",
              "          ...,\n",
              "          [254., 254., 254.],\n",
              "          [254., 254., 254.],\n",
              "          [254., 254., 254.]],\n",
              " \n",
              "         [[ 34.,  34.,  34.],\n",
              "          [ 34.,  34.,  34.],\n",
              "          [ 34.,  34.,  34.],\n",
              "          ...,\n",
              "          [254., 254., 254.],\n",
              "          [254., 254., 254.],\n",
              "          [254., 254., 254.]],\n",
              " \n",
              "         [[ 34.,  34.,  34.],\n",
              "          [ 34.,  34.,  34.],\n",
              "          [ 34.,  34.,  34.],\n",
              "          ...,\n",
              "          [254., 254., 254.],\n",
              "          [254., 254., 254.],\n",
              "          [254., 254., 254.]],\n",
              " \n",
              "         ...,\n",
              " \n",
              "         [[ 34.,  34.,  34.],\n",
              "          [ 34.,  34.,  34.],\n",
              "          [ 34.,  34.,  34.],\n",
              "          ...,\n",
              "          [ 48.,  48.,  48.],\n",
              "          [ 48.,  48.,  48.],\n",
              "          [ 48.,  48.,  48.]],\n",
              " \n",
              "         [[ 34.,  34.,  34.],\n",
              "          [ 34.,  34.,  34.],\n",
              "          [ 34.,  34.,  34.],\n",
              "          ...,\n",
              "          [ 48.,  48.,  48.],\n",
              "          [ 48.,  48.,  48.],\n",
              "          [ 48.,  48.,  48.]],\n",
              " \n",
              "         [[ 34.,  34.,  34.],\n",
              "          [ 34.,  34.,  34.],\n",
              "          [ 34.,  34.,  34.],\n",
              "          ...,\n",
              "          [ 48.,  48.,  48.],\n",
              "          [ 48.,  48.,  48.],\n",
              "          [ 48.,  48.,  48.]]],\n",
              " \n",
              " \n",
              "        [[[150., 150., 150.],\n",
              "          [150., 150., 150.],\n",
              "          [150., 150., 150.],\n",
              "          ...,\n",
              "          [160., 160., 160.],\n",
              "          [160., 160., 160.],\n",
              "          [160., 160., 160.]],\n",
              " \n",
              "         [[150., 150., 150.],\n",
              "          [150., 150., 150.],\n",
              "          [150., 150., 150.],\n",
              "          ...,\n",
              "          [160., 160., 160.],\n",
              "          [160., 160., 160.],\n",
              "          [160., 160., 160.]],\n",
              " \n",
              "         [[150., 150., 150.],\n",
              "          [150., 150., 150.],\n",
              "          [150., 150., 150.],\n",
              "          ...,\n",
              "          [160., 160., 160.],\n",
              "          [160., 160., 160.],\n",
              "          [160., 160., 160.]],\n",
              " \n",
              "         ...,\n",
              " \n",
              "         [[233., 233., 233.],\n",
              "          [233., 233., 233.],\n",
              "          [233., 233., 233.],\n",
              "          ...,\n",
              "          [240., 240., 240.],\n",
              "          [240., 240., 240.],\n",
              "          [240., 240., 240.]],\n",
              " \n",
              "         [[233., 233., 233.],\n",
              "          [233., 233., 233.],\n",
              "          [233., 233., 233.],\n",
              "          ...,\n",
              "          [240., 240., 240.],\n",
              "          [240., 240., 240.],\n",
              "          [240., 240., 240.]],\n",
              " \n",
              "         [[233., 233., 233.],\n",
              "          [233., 233., 233.],\n",
              "          [233., 233., 233.],\n",
              "          ...,\n",
              "          [240., 240., 240.],\n",
              "          [240., 240., 240.],\n",
              "          [240., 240., 240.]]],\n",
              " \n",
              " \n",
              "        [[[112., 112., 112.],\n",
              "          [112., 112., 112.],\n",
              "          [112., 112., 112.],\n",
              "          ...,\n",
              "          [134., 134., 134.],\n",
              "          [134., 134., 134.],\n",
              "          [134., 134., 134.]],\n",
              " \n",
              "         [[112., 112., 112.],\n",
              "          [112., 112., 112.],\n",
              "          [112., 112., 112.],\n",
              "          ...,\n",
              "          [134., 134., 134.],\n",
              "          [134., 134., 134.],\n",
              "          [134., 134., 134.]],\n",
              " \n",
              "         [[112., 112., 112.],\n",
              "          [112., 112., 112.],\n",
              "          [112., 112., 112.],\n",
              "          ...,\n",
              "          [134., 134., 134.],\n",
              "          [134., 134., 134.],\n",
              "          [134., 134., 134.]],\n",
              " \n",
              "         ...,\n",
              " \n",
              "         [[ 41.,  41.,  41.],\n",
              "          [ 41.,  41.,  41.],\n",
              "          [ 41.,  41.,  41.],\n",
              "          ...,\n",
              "          [ 18.,  18.,  18.],\n",
              "          [ 18.,  18.,  18.],\n",
              "          [ 18.,  18.,  18.]],\n",
              " \n",
              "         [[ 41.,  41.,  41.],\n",
              "          [ 41.,  41.,  41.],\n",
              "          [ 41.,  41.,  41.],\n",
              "          ...,\n",
              "          [ 18.,  18.,  18.],\n",
              "          [ 18.,  18.,  18.],\n",
              "          [ 18.,  18.,  18.]],\n",
              " \n",
              "         [[ 41.,  41.,  41.],\n",
              "          [ 41.,  41.,  41.],\n",
              "          [ 41.,  41.,  41.],\n",
              "          ...,\n",
              "          [ 18.,  18.,  18.],\n",
              "          [ 18.,  18.,  18.],\n",
              "          [ 18.,  18.,  18.]]],\n",
              " \n",
              " \n",
              "        ...,\n",
              " \n",
              " \n",
              "        [[[227., 227., 227.],\n",
              "          [227., 227., 227.],\n",
              "          [227., 227., 227.],\n",
              "          ...,\n",
              "          [228., 228., 228.],\n",
              "          [228., 228., 228.],\n",
              "          [228., 228., 228.]],\n",
              " \n",
              "         [[227., 227., 227.],\n",
              "          [227., 227., 227.],\n",
              "          [227., 227., 227.],\n",
              "          ...,\n",
              "          [228., 228., 228.],\n",
              "          [228., 228., 228.],\n",
              "          [228., 228., 228.]],\n",
              " \n",
              "         [[227., 227., 227.],\n",
              "          [227., 227., 227.],\n",
              "          [227., 227., 227.],\n",
              "          ...,\n",
              "          [228., 228., 228.],\n",
              "          [228., 228., 228.],\n",
              "          [228., 228., 228.]],\n",
              " \n",
              "         ...,\n",
              " \n",
              "         [[216., 216., 216.],\n",
              "          [216., 216., 216.],\n",
              "          [216., 216., 216.],\n",
              "          ...,\n",
              "          [ 98.,  98.,  98.],\n",
              "          [ 98.,  98.,  98.],\n",
              "          [ 98.,  98.,  98.]],\n",
              " \n",
              "         [[216., 216., 216.],\n",
              "          [216., 216., 216.],\n",
              "          [216., 216., 216.],\n",
              "          ...,\n",
              "          [ 98.,  98.,  98.],\n",
              "          [ 98.,  98.,  98.],\n",
              "          [ 98.,  98.,  98.]],\n",
              " \n",
              "         [[216., 216., 216.],\n",
              "          [216., 216., 216.],\n",
              "          [216., 216., 216.],\n",
              "          ...,\n",
              "          [ 98.,  98.,  98.],\n",
              "          [ 98.,  98.,  98.],\n",
              "          [ 98.,  98.,  98.]]],\n",
              " \n",
              " \n",
              "        [[[198., 198., 198.],\n",
              "          [198., 198., 198.],\n",
              "          [198., 198., 198.],\n",
              "          ...,\n",
              "          [ 22.,  22.,  22.],\n",
              "          [ 22.,  22.,  22.],\n",
              "          [ 22.,  22.,  22.]],\n",
              " \n",
              "         [[198., 198., 198.],\n",
              "          [198., 198., 198.],\n",
              "          [198., 198., 198.],\n",
              "          ...,\n",
              "          [ 22.,  22.,  22.],\n",
              "          [ 22.,  22.,  22.],\n",
              "          [ 22.,  22.,  22.]],\n",
              " \n",
              "         [[198., 198., 198.],\n",
              "          [198., 198., 198.],\n",
              "          [198., 198., 198.],\n",
              "          ...,\n",
              "          [ 22.,  22.,  22.],\n",
              "          [ 22.,  22.,  22.],\n",
              "          [ 22.,  22.,  22.]],\n",
              " \n",
              "         ...,\n",
              " \n",
              "         [[114., 114., 114.],\n",
              "          [114., 114., 114.],\n",
              "          [114., 114., 114.],\n",
              "          ...,\n",
              "          [250., 250., 250.],\n",
              "          [250., 250., 250.],\n",
              "          [250., 250., 250.]],\n",
              " \n",
              "         [[114., 114., 114.],\n",
              "          [114., 114., 114.],\n",
              "          [114., 114., 114.],\n",
              "          ...,\n",
              "          [250., 250., 250.],\n",
              "          [250., 250., 250.],\n",
              "          [250., 250., 250.]],\n",
              " \n",
              "         [[114., 114., 114.],\n",
              "          [114., 114., 114.],\n",
              "          [114., 114., 114.],\n",
              "          ...,\n",
              "          [250., 250., 250.],\n",
              "          [250., 250., 250.],\n",
              "          [250., 250., 250.]]],\n",
              " \n",
              " \n",
              "        [[[188., 188., 188.],\n",
              "          [188., 188., 188.],\n",
              "          [188., 188., 188.],\n",
              "          ...,\n",
              "          [161., 161., 161.],\n",
              "          [161., 161., 161.],\n",
              "          [161., 161., 161.]],\n",
              " \n",
              "         [[188., 188., 188.],\n",
              "          [188., 188., 188.],\n",
              "          [188., 188., 188.],\n",
              "          ...,\n",
              "          [161., 161., 161.],\n",
              "          [161., 161., 161.],\n",
              "          [161., 161., 161.]],\n",
              " \n",
              "         [[188., 188., 188.],\n",
              "          [188., 188., 188.],\n",
              "          [188., 188., 188.],\n",
              "          ...,\n",
              "          [161., 161., 161.],\n",
              "          [161., 161., 161.],\n",
              "          [161., 161., 161.]],\n",
              " \n",
              "         ...,\n",
              " \n",
              "         [[124., 124., 124.],\n",
              "          [124., 124., 124.],\n",
              "          [124., 124., 124.],\n",
              "          ...,\n",
              "          [179., 179., 179.],\n",
              "          [179., 179., 179.],\n",
              "          [179., 179., 179.]],\n",
              " \n",
              "         [[124., 124., 124.],\n",
              "          [124., 124., 124.],\n",
              "          [124., 124., 124.],\n",
              "          ...,\n",
              "          [179., 179., 179.],\n",
              "          [179., 179., 179.],\n",
              "          [179., 179., 179.]],\n",
              " \n",
              "         [[124., 124., 124.],\n",
              "          [124., 124., 124.],\n",
              "          [124., 124., 124.],\n",
              "          ...,\n",
              "          [179., 179., 179.],\n",
              "          [179., 179., 179.],\n",
              "          [179., 179., 179.]]]], dtype=float32),\n",
              " array([3, 6, 4, 5, 3, 3, 3, 6, 4, 3, 4, 2, 4, 4, 5, 4, 3, 6, 2, 5, 2, 5,\n",
              "        3, 5, 3, 0, 5, 2, 2, 6, 0, 0], dtype=int32))"
            ]
          },
          "metadata": {},
          "execution_count": 7
        }
      ],
      "source": [
        "test_batch"
      ]
    },
    {
      "cell_type": "code",
      "execution_count": 8,
      "metadata": {
        "colab": {
          "base_uri": "https://localhost:8080/"
        },
        "id": "N9nCM-blMnko",
        "outputId": "40f58c9c-fdfa-418c-fcea-34f5f1ce1735"
      },
      "outputs": [
        {
          "output_type": "execute_result",
          "data": {
            "text/plain": [
              "2"
            ]
          },
          "metadata": {},
          "execution_count": 8
        }
      ],
      "source": [
        "len(test_batch)"
      ]
    },
    {
      "cell_type": "code",
      "execution_count": 9,
      "metadata": {
        "colab": {
          "base_uri": "https://localhost:8080/"
        },
        "id": "b6lA6tY8MyfE",
        "outputId": "1187c1d0-e2b8-4b3e-97bb-8677d94a5e4b"
      },
      "outputs": [
        {
          "output_type": "execute_result",
          "data": {
            "text/plain": [
              "(32, 256, 256, 3)"
            ]
          },
          "metadata": {},
          "execution_count": 9
        }
      ],
      "source": [
        "train_batch[0].shape"
      ]
    },
    {
      "cell_type": "code",
      "execution_count": 10,
      "metadata": {
        "id": "vh42QIqDQbJI"
      },
      "outputs": [],
      "source": [
        "train_data = train_data.map(lambda x,y: (x/255,y))\n",
        "test_data = test_data.map(lambda x,y: (x/255,y))"
      ]
    },
    {
      "cell_type": "code",
      "execution_count": 11,
      "metadata": {
        "colab": {
          "base_uri": "https://localhost:8080/"
        },
        "id": "B3IEe24mYzTL",
        "outputId": "db4376fd-4de6-4760-887c-6c7f3551e949"
      },
      "outputs": [
        {
          "output_type": "execute_result",
          "data": {
            "text/plain": [
              "1.0"
            ]
          },
          "metadata": {},
          "execution_count": 11
        }
      ],
      "source": [
        "scaled_train_iterator = train_data.as_numpy_iterator()\n",
        "scaled_test_iterator = test_data.as_numpy_iterator()\n",
        "train_batch = scaled_train_iterator.next()\n",
        "test_batch = scaled_test_iterator.next()\n",
        "test_batch[0].max()"
      ]
    },
    {
      "cell_type": "code",
      "execution_count": 12,
      "metadata": {
        "colab": {
          "base_uri": "https://localhost:8080/"
        },
        "id": "qbe0M2zrUdtV",
        "outputId": "1c230609-b9bb-4c3b-8d2c-2c2b188b727a"
      },
      "outputs": [
        {
          "output_type": "execute_result",
          "data": {
            "text/plain": [
              "908"
            ]
          },
          "metadata": {},
          "execution_count": 12
        }
      ],
      "source": [
        "len(train_data)"
      ]
    },
    {
      "cell_type": "code",
      "execution_count": 13,
      "metadata": {
        "colab": {
          "base_uri": "https://localhost:8080/"
        },
        "id": "ptqVzmRhWO70",
        "outputId": "ae0a07b2-1267-431d-de5a-658f92129660"
      },
      "outputs": [
        {
          "output_type": "stream",
          "name": "stdout",
          "text": [
            "726 182\n"
          ]
        }
      ],
      "source": [
        "train_size = int(len(train_data)*0.8)\n",
        "val_size = int(len(train_data)*0.2)+1\n",
        "test_size = len(test_data)\n",
        "print(train_size , val_size)"
      ]
    },
    {
      "cell_type": "code",
      "execution_count": 14,
      "metadata": {
        "id": "xP_HrdN4X0TF"
      },
      "outputs": [],
      "source": [
        "train = train_data.take(train_size)\n",
        "val = train_data.skip(train_size).take(val_size)\n",
        "test = test_data.take(test_size)"
      ]
    },
    {
      "cell_type": "code",
      "execution_count": 15,
      "metadata": {
        "colab": {
          "base_uri": "https://localhost:8080/"
        },
        "id": "XjyWT-jYYOyO",
        "outputId": "b1013f73-408b-48e6-b00e-4fd91494e23f"
      },
      "outputs": [
        {
          "output_type": "stream",
          "name": "stdout",
          "text": [
            "726 182 231\n"
          ]
        }
      ],
      "source": [
        "print(len(train),len(val),len(test))"
      ]
    },
    {
      "cell_type": "markdown",
      "metadata": {
        "id": "5w3AALkQMjTc"
      },
      "source": [
        "## Step 3 - Model"
      ]
    },
    {
      "cell_type": "code",
      "execution_count": 44,
      "metadata": {
        "id": "D9-x5qeIMmel"
      },
      "outputs": [],
      "source": [
        "model = Sequential(\n",
        "    [\n",
        "        Conv2D(32, (3,3), 1,  activation = 'relu', input_shape = (256, 256, 3)),\n",
        "        MaxPooling2D(),\n",
        "\n",
        "        Conv2D(64, (3,3), 1,  activation = 'relu'),\n",
        "        MaxPooling2D(),\n",
        "\n",
        "        Conv2D(32, (3,3), 1,  activation = 'relu'),\n",
        "        MaxPooling2D(),\n",
        "\n",
        "        Flatten(),\n",
        "\n",
        "        Dense(256, activation = 'relu'),\n",
        "        Dense(7, activation = 'softmax')\n",
        "    ]\n",
        ")"
      ]
    },
    {
      "cell_type": "code",
      "execution_count": 49,
      "metadata": {
        "id": "iani6A64QfFa"
      },
      "outputs": [],
      "source": [
        "model.compile(\n",
        "    optimizer = 'adam',\n",
        "    loss=tf.keras.losses.SparseCategoricalCrossentropy(from_logits=True),\n",
        "    metrics=['accuracy']\n",
        ")"
      ]
    },
    {
      "cell_type": "code",
      "execution_count": 50,
      "metadata": {
        "colab": {
          "base_uri": "https://localhost:8080/"
        },
        "id": "E8aNblDNQvWO",
        "outputId": "5ed3b8b3-6ba2-4279-f488-1172e20edaad"
      },
      "outputs": [
        {
          "output_type": "stream",
          "name": "stdout",
          "text": [
            "Model: \"sequential_3\"\n",
            "_________________________________________________________________\n",
            " Layer (type)                Output Shape              Param #   \n",
            "=================================================================\n",
            " conv2d_9 (Conv2D)           (None, 254, 254, 32)      896       \n",
            "                                                                 \n",
            " max_pooling2d_9 (MaxPooling  (None, 127, 127, 32)     0         \n",
            " 2D)                                                             \n",
            "                                                                 \n",
            " conv2d_10 (Conv2D)          (None, 125, 125, 64)      18496     \n",
            "                                                                 \n",
            " max_pooling2d_10 (MaxPoolin  (None, 62, 62, 64)       0         \n",
            " g2D)                                                            \n",
            "                                                                 \n",
            " conv2d_11 (Conv2D)          (None, 60, 60, 32)        18464     \n",
            "                                                                 \n",
            " max_pooling2d_11 (MaxPoolin  (None, 30, 30, 32)       0         \n",
            " g2D)                                                            \n",
            "                                                                 \n",
            " flatten_3 (Flatten)         (None, 28800)             0         \n",
            "                                                                 \n",
            " dense_6 (Dense)             (None, 256)               7373056   \n",
            "                                                                 \n",
            " dense_7 (Dense)             (None, 7)                 1799      \n",
            "                                                                 \n",
            "=================================================================\n",
            "Total params: 7,412,711\n",
            "Trainable params: 7,412,711\n",
            "Non-trainable params: 0\n",
            "_________________________________________________________________\n"
          ]
        }
      ],
      "source": [
        "model.summary()"
      ]
    },
    {
      "cell_type": "code",
      "execution_count": 51,
      "metadata": {
        "id": "Vrndyi1jRMlq"
      },
      "outputs": [],
      "source": [
        "log_dir = '/content/gdrive/MyDrive/Human emotions/Logs'\n",
        "tensorboard_callback = tf.keras.callbacks.TensorBoard(log_dir = log_dir)"
      ]
    },
    {
      "cell_type": "code",
      "execution_count": null,
      "metadata": {
        "colab": {
          "base_uri": "https://localhost:8080/"
        },
        "id": "avgsQBkbU3Pz",
        "outputId": "ed4663ef-20c5-4796-9a66-7fe6883fef83"
      },
      "outputs": [
        {
          "metadata": {
            "tags": null
          },
          "name": "stdout",
          "output_type": "stream",
          "text": [
            "Epoch 1/20\n"
          ]
        },
        {
          "metadata": {
            "tags": null
          },
          "name": "stderr",
          "output_type": "stream",
          "text": [
            "/usr/local/lib/python3.10/dist-packages/keras/backend.py:5612: UserWarning: \"`sparse_categorical_crossentropy` received `from_logits=True`, but the `output` argument was produced by a Softmax activation and thus does not represent logits. Was this intended?\n",
            "  output, from_logits = _get_logits(\n"
          ]
        },
        {
          "output_type": "stream",
          "name": "stdout",
          "text": [
            "726/726 [==============================] - 139s 189ms/step - loss: 1.7164 - accuracy: 0.3177 - val_loss: 1.5972 - val_accuracy: 0.3821\n",
            "Epoch 2/20\n",
            "699/726 [===========================>..] - ETA: 2s - loss: 1.4335 - accuracy: 0.4489"
          ]
        }
      ],
      "source": [
        "history = model.fit(train, validation_data = val, epochs = 20, callbacks = [tensorboard_callback])"
      ]
    },
    {
      "cell_type": "code",
      "execution_count": null,
      "metadata": {
        "id": "c9H9mYj1VQDz"
      },
      "outputs": [],
      "source": [
        "model.save('/content/gdrive/MyDrive/Human emotions/Saved_model')\n"
      ]
    },
    {
      "cell_type": "code",
      "source": [],
      "metadata": {
        "id": "5Qv8EE2jyg_B"
      },
      "execution_count": null,
      "outputs": []
    }
  ],
  "metadata": {
    "colab": {
      "provenance": [],
      "gpuType": "T4",
      "authorship_tag": "ABX9TyPhZJTUsn2nFwSUmcGh5w4p",
      "include_colab_link": true
    },
    "kernelspec": {
      "display_name": "Python 3",
      "name": "python3"
    },
    "language_info": {
      "name": "python"
    },
    "accelerator": "GPU"
  },
  "nbformat": 4,
  "nbformat_minor": 0
}