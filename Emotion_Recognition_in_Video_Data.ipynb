{
  "cells": [
    {
      "cell_type": "markdown",
      "metadata": {
        "id": "view-in-github",
        "colab_type": "text"
      },
      "source": [
        "<a href=\"https://colab.research.google.com/github/Witcape/Emotion_Recognition_in_Live_Video_Data/blob/main/Emotion_Recognition_in_Video_Data.ipynb\" target=\"_parent\"><img src=\"https://colab.research.google.com/assets/colab-badge.svg\" alt=\"Open In Colab\"/></a>"
      ]
    },
    {
      "cell_type": "markdown",
      "metadata": {
        "id": "DcLBknbhLn00"
      },
      "source": [
        "### STEP 1 - Import all the Libraries and google drive"
      ]
    },
    {
      "cell_type": "code",
      "execution_count": 53,
      "metadata": {
        "id": "HsNtUV7wy2_X"
      },
      "outputs": [],
      "source": [
        "from sympy import *\n",
        "import numpy as np\n",
        "import matplotlib.pyplot as plt\n",
        "import ipywidgets as widgets\n",
        "import sklearn\n",
        "import tensorflow as tf\n",
        "import pandas as pd\n",
        "import sklearn\n",
        "from tensorflow.keras.models import Sequential, load_model\n",
        "from tensorflow.keras.losses import SparseCategoricalCrossentropy,CategoricalCrossentropy\n",
        "from tensorflow.keras.layers import Dense, Conv2D, MaxPooling2D, Flatten, Dropout, BatchNormalization\n",
        "from tensorflow.keras.activations import linear,relu,sigmoid\n",
        "import cv2\n",
        "import os\n",
        "import PIL\n",
        "from google.colab.patches import cv2_imshow\n",
        "import pathlib\n",
        "from sklearn.preprocessing import LabelEncoder, OneHotEncoder\n",
        "from tensorflow.keras.optimizers import Adam\n",
        "from keras.callbacks import EarlyStopping, ReduceLROnPlateau\n",
        "from tensorflow.keras.preprocessing.image import ImageDataGenerator,img_to_array\n",
        "from tensorflow.keras.preprocessing import image\n",
        "import tensorflow_datasets as tfds"
      ]
    },
    {
      "cell_type": "code",
      "execution_count": 54,
      "metadata": {
        "id": "5aLgwauVTsBV"
      },
      "outputs": [],
      "source": [
        "# from google.colab import drive\n",
        "# drive.mount('/content/gdrive')"
      ]
    },
    {
      "cell_type": "markdown",
      "metadata": {
        "id": "8G-RZ8UGMZ1E"
      },
      "source": [
        "## Step 2 - Loading Data & Preprocessing"
      ]
    },
    {
      "cell_type": "code",
      "execution_count": 55,
      "metadata": {
        "id": "FtdQSKfJHTy9"
      },
      "outputs": [],
      "source": [
        "# train_data_dir = '/content/gdrive/MyDrive/Human emotions/train'\n",
        "# test_data_dir = '/content/gdrive/MyDrive/Human emotions/test'"
      ]
    },
    {
      "cell_type": "code",
      "execution_count": 56,
      "metadata": {
        "id": "0kuveCwiDUM9"
      },
      "outputs": [],
      "source": [
        "# picture_size = 48\n",
        "# batch_size = 32\n",
        "# no_of_classes = 7\n",
        "# epochs = 20\n",
        "\n",
        "# datagen_train = ImageDataGenerator (\n",
        "#                                     rescale=1./255,\n",
        "#                                     validation_split=0.2\n",
        "#                                     )\n",
        "\n",
        "# datagen_val   = ImageDataGenerator (\n",
        "#                                     rescale=1./255\n",
        "#                                     )\n",
        "# datagen_test   = ImageDataGenerator (\n",
        "#                                     rescale=1./255\n",
        "#                                     )"
      ]
    },
    {
      "cell_type": "code",
      "execution_count": 57,
      "metadata": {
        "id": "bfaBuNmgROfH"
      },
      "outputs": [],
      "source": [
        "# train_set = datagen_train.flow_from_directory(\n",
        "#     train_data_dir,\n",
        "#     target_size=(picture_size, picture_size),\n",
        "#     color_mode=\"grayscale\",\n",
        "#     batch_size=batch_size,\n",
        "#     class_mode='categorical',\n",
        "#     shuffle=True\n",
        "# )\n",
        "\n",
        "# val_set = datagen_val.flow_from_directory(\n",
        "#     test_data_dir,\n",
        "\n",
        "#     target_size=(picture_size, picture_size),\n",
        "#     color_mode=\"grayscale\",\n",
        "#     batch_size=batch_size,\n",
        "#     class_mode='categorical',\n",
        "#     shuffle=False\n",
        "# )\n",
        "\n"
      ]
    },
    {
      "cell_type": "code",
      "execution_count": 58,
      "metadata": {
        "id": "D3jo0znR6Ef_"
      },
      "outputs": [],
      "source": [
        "# class_names = ['Angry', 'Disgust', 'Fear', 'Happy', 'Sad', 'Surprise', 'Neutral']\n",
        "\n",
        "# count = 0\n",
        "# for batch_images, batch_labels in train_set:\n",
        "#     for i in range(batch_size):\n",
        "\n",
        "#         if count < 9:\n",
        "#             plt.subplot(3, 3, count + 1)\n",
        "#             plt.imshow(batch_images[i].reshape(picture_size, picture_size), cmap='gray')\n",
        "#             class_index = batch_labels[i].argmax()\n",
        "#             class_name = class_names[class_index]\n",
        "#             plt.title(f'Class: {class_name}')\n",
        "#             plt.axis('off')\n",
        "#             count += 1\n",
        "\n",
        "#     if count >= 9:\n",
        "#         break\n",
        "\n",
        "# plt.show()\n"
      ]
    },
    {
      "cell_type": "markdown",
      "metadata": {
        "id": "5w3AALkQMjTc"
      },
      "source": [
        "## Step 3 - Model"
      ]
    },
    {
      "cell_type": "code",
      "execution_count": 59,
      "metadata": {
        "id": "D9-x5qeIMmel"
      },
      "outputs": [],
      "source": [
        "model = Sequential(\n",
        "    [\n",
        "        Conv2D(128, (3,3), 1,  activation = 'relu', padding='same', input_shape = (picture_size, picture_size, 1)),\n",
        "        MaxPooling2D(pool_size=(2, 2)),\n",
        "        Dropout(0.25),\n",
        "        BatchNormalization(),\n",
        "\n",
        "        Conv2D(256, (3,3), 1,  activation = 'relu', padding='same'),\n",
        "        BatchNormalization(),\n",
        "        MaxPooling2D(),\n",
        "        Dropout(0.25),\n",
        "\n",
        "        Conv2D(512, (3,3), 1,  activation = 'relu', padding='same'),\n",
        "        BatchNormalization(),\n",
        "        MaxPooling2D(),\n",
        "        Dropout(0.25),\n",
        "\n",
        "        Conv2D(256, (3,3), 1,  activation = 'relu', padding='same'),\n",
        "        BatchNormalization(),\n",
        "        MaxPooling2D(),\n",
        "        Dropout(0.25),\n",
        "\n",
        "        Conv2D(128, (3,3), 1,  activation = 'relu', padding='same'),\n",
        "        BatchNormalization(),\n",
        "        MaxPooling2D(),\n",
        "        Dropout(0.25),\n",
        "\n",
        "        Flatten(),\n",
        "\n",
        "        Dense(512, activation = 'relu'),\n",
        "        Dense(7, activation = 'softmax')\n",
        "    ]\n",
        ")"
      ]
    },
    {
      "cell_type": "code",
      "execution_count": 60,
      "metadata": {
        "id": "WugAw5205Zcs"
      },
      "outputs": [],
      "source": [
        "# model.compile(\n",
        "#     optimizer = Adam(learning_rate = 0.01),\n",
        "#     loss=tf.keras.losses.CategoricalCrossentropy(from_logits=True),\n",
        "#     metrics=['accuracy']\n",
        "# )"
      ]
    },
    {
      "cell_type": "code",
      "execution_count": 61,
      "metadata": {
        "id": "E8aNblDNQvWO"
      },
      "outputs": [],
      "source": [
        "# model.summary()"
      ]
    },
    {
      "cell_type": "code",
      "execution_count": 62,
      "metadata": {
        "id": "Vrndyi1jRMlq"
      },
      "outputs": [],
      "source": [
        "# log_dir = '/content/gdrive/MyDrive/Human emotions/Logs'\n",
        "# tensorboard_callback = tf.keras.callbacks.TensorBoard(log_dir = log_dir)"
      ]
    },
    {
      "cell_type": "code",
      "execution_count": 63,
      "metadata": {
        "id": "YI2C6yBW5Axh"
      },
      "outputs": [],
      "source": [
        "# early_stopping = EarlyStopping(patience=5, monitor='val_loss', restore_best_weights=True)\n",
        "# reduce_lr = ReduceLROnPlateau(factor=0.1, patience=3, monitor='val_loss', min_lr=0.00001)"
      ]
    },
    {
      "cell_type": "code",
      "execution_count": 64,
      "metadata": {
        "id": "avgsQBkbU3Pz"
      },
      "outputs": [],
      "source": [
        "\n",
        "# history = model.fit(\n",
        "#     train_set,\n",
        "#     epochs=2,\n",
        "#     validation_data=val_set,\n",
        "#     callbacks=[early_stopping, reduce_lr]\n",
        "# )"
      ]
    },
    {
      "cell_type": "code",
      "execution_count": 65,
      "metadata": {
        "id": "c9H9mYj1VQDz"
      },
      "outputs": [],
      "source": [
        "loaded_model = load_model('/content/gdrive/MyDrive/Human emotions/val_acc_61', compile=False)\n",
        "\n",
        "loaded_model.compile(optimizer=Adam(learning_rate=0.01), loss=CategoricalCrossentropy(from_logits=True), metrics=['accuracy'])"
      ]
    },
    {
      "cell_type": "code",
      "execution_count": 66,
      "metadata": {
        "id": "urm2_uXx61bh"
      },
      "outputs": [],
      "source": [
        "#predictions = loaded_model.predict(val_set)"
      ]
    },
    {
      "cell_type": "code",
      "execution_count": 67,
      "metadata": {
        "id": "ox0Zk0BM64Em"
      },
      "outputs": [],
      "source": [
        "#predicted_classes = np.argmax(predictions, axis=1)"
      ]
    },
    {
      "cell_type": "code",
      "execution_count": 68,
      "metadata": {
        "id": "Dlv4q3R8EKQY"
      },
      "outputs": [],
      "source": [
        "#accuracy = loaded_model.evaluate(val_set)[1]"
      ]
    },
    {
      "cell_type": "code",
      "execution_count": 69,
      "metadata": {
        "id": "mbbWGnoZMunt"
      },
      "outputs": [],
      "source": [
        "# def image_test(image_path):\n",
        "#   image = cv2.imread(image_path)\n",
        "#   img = cv2.cvtColor(image, cv2.COLOR_BGR2GRAY)\n",
        "#   img = cv2.resize(img, (48, 48))\n",
        "#   img_array = img_to_array(img)\n",
        "#   img_array = np.expand_dims(img_array, axis=0)\n",
        "#   img_array /= 255.0\n",
        "#   return img, img_array"
      ]
    },
    {
      "cell_type": "code",
      "execution_count": 70,
      "metadata": {
        "id": "kn1y3-BsNweX"
      },
      "outputs": [],
      "source": [
        "# image_path = '/content/Screenshot 2023-08-18 at 2.06.53 PM.png'\n",
        "# img, img_array = image_test(image_path)"
      ]
    },
    {
      "cell_type": "code",
      "execution_count": 71,
      "metadata": {
        "id": "_M6_l0OVNwrB"
      },
      "outputs": [],
      "source": [
        "# predictions = loaded_model.predict(img_array)\n",
        "# predicted_class = np.argmax(predictions[0])\n",
        "# emotion_labels = ['Angry', 'Disgust', 'Fear', 'Happy', 'Sad', 'Surprise', 'Neutral']\n",
        "# predicted_emotion = emotion_labels[predicted_class]\n",
        "# predicted_emotion"
      ]
    },
    {
      "cell_type": "code",
      "execution_count": 72,
      "metadata": {
        "id": "tpd1E82HNwzs"
      },
      "outputs": [],
      "source": [
        "# plt.imshow(img)\n",
        "# plt.title(predicted_emotion)\n",
        "# plt.axis('off')\n",
        "# plt.show()"
      ]
    },
    {
      "cell_type": "markdown",
      "metadata": {
        "id": "UipXiROVwc-D"
      },
      "source": [
        "## Trying to make it work with video frames"
      ]
    },
    {
      "cell_type": "code",
      "execution_count": 41,
      "metadata": {
        "id": "RcfjIsulNvh8"
      },
      "outputs": [],
      "source": [
        "def preprocess(frame):\n",
        "    img = image.array_to_img(frame)\n",
        "    img = img.resize((48, 48))\n",
        "    img_array = image.img_to_array(img)\n",
        "    img_array = np.expand_dims(img_array, axis=0)\n",
        "    img_array /= 255.0\n",
        "    return img_array"
      ]
    },
    {
      "cell_type": "code",
      "execution_count": 42,
      "metadata": {
        "id": "Q6IfWwbZoqys"
      },
      "outputs": [],
      "source": [
        "def overlay_emoji(frame, emoji):\n",
        "    # Define the position and size for overlay\n",
        "    x_position = 100  # Adjust as needed\n",
        "    y_position = 100  # Adjust as needed\n",
        "    emoji_height, emoji_width, _ = emoji.shape\n",
        "    emoji_size = (emoji_width, emoji_height)\n",
        "\n",
        "    # Resize emoji to the desired size\n",
        "    resized_emoji = cv2.resize(emoji, emoji_size)\n",
        "\n",
        "    # Overlay emoji on the frame\n",
        "    for y in range(emoji_height):\n",
        "        for x in range(emoji_width):\n",
        "            if emoji[y, x].any() > 0:\n",
        "                frame[y + y_position, x + x_position] = emoji[y, x]\n",
        "\n",
        "    return frame\n"
      ]
    },
    {
      "cell_type": "code",
      "execution_count": 43,
      "metadata": {
        "id": "X0yPKmkZmzYZ"
      },
      "outputs": [],
      "source": [
        "import cv2\n",
        "import numpy as np\n",
        "from IPython.display import display, HTML\n",
        "from google.colab.output import eval_js\n",
        "import base64\n",
        "from tensorflow.keras.models import load_model\n",
        "\n",
        "# Load your emoji images (replace with actual paths)\n",
        "emoji_angry = cv2.imread('/content/angry_emoji.png', cv2.IMREAD_UNCHANGED)\n",
        "emoji_disgusted = cv2.imread('/content/disgusted_emoji.png', cv2.IMREAD_UNCHANGED)\n",
        "emoji_fearful = cv2.imread('/content/fearful_emoji.png', cv2.IMREAD_UNCHANGED)\n",
        "emoji_happy = cv2.imread('/content/happy_emoji.png', cv2.IMREAD_UNCHANGED)\n",
        "emoji_neutral = cv2.imread('/content/neutral_emoji.png', cv2.IMREAD_UNCHANGED)\n",
        "emoji_sad = cv2.imread('/content/sad_emoji.png', cv2.IMREAD_UNCHANGED)\n",
        "emoji_surprised = cv2.imread('/content/surprised_emoji.png', cv2.IMREAD_UNCHANGED)\n",
        "\n",
        "# Initialize face cascade\n",
        "face_cascade = cv2.CascadeClassifier(cv2.data.haarcascades + 'haarcascade_frontalface_default.xml')\n",
        "\n",
        "# Emotion labels\n",
        "emotion_labels = {\n",
        "    0: \"angry\",\n",
        "    1: \"disgusted\",\n",
        "    2: \"fearful\",\n",
        "    3: \"happy\",\n",
        "    4: \"neutral\",\n",
        "    5: \"sad\",\n",
        "    6: \"surprised\"\n",
        "}\n",
        "\n",
        "# Function to capture and process webcam feed\n",
        "def process_webcam_frame(emoji, model):\n",
        "    js = eval_js(\"new Promise(resolve => { navigator.mediaDevices.getUserMedia({video: true}).then(stream => { resolve(new MediaRecorder(stream)) }); });\")\n",
        "    video_width = 480\n",
        "    video_height = 360\n",
        "    img_tag = '<img src=\"data:image/jpeg;base64,{}\" width=\"{}\" height=\"{}\"/>'\n",
        "\n",
        "    while True:\n",
        "        js_output = eval_js(\"data => { return new Promise(resolve => { const reader = new FileReader(); reader.onloadend = () => resolve(reader.result); reader.readAsDataURL(data); }); }\")\n",
        "        frame_data = js_output(js)\n",
        "\n",
        "        if not frame_data:\n",
        "            break\n",
        "\n",
        "        # Convert base64 image to numpy array\n",
        "        nparr = np.frombuffer(base64.b64decode(frame_data.split(',')[1]), np.uint8)\n",
        "        frame = cv2.imdecode(nparr, cv2.IMREAD_COLOR)\n",
        "\n",
        "        gray_frame = cv2.cvtColor(frame, cv2.COLOR_BGR2GRAY)\n",
        "\n",
        "        faces = face_cascade.detectMultiScale(gray_frame, scaleFactor=1.1, minNeighbors=5)\n",
        "\n",
        "        for (x, y, w, h) in faces:\n",
        "            face_region = gray_frame[y:y+h, x:x+w]\n",
        "            processed_face = cv2.resize(face_region, (48, 48)) / 255.0\n",
        "\n",
        "            predicted_emotion = model.predict(np.expand_dims(processed_face, axis=0))\n",
        "            predicted_emotion = np.argmax(predicted_emotion)\n",
        "\n",
        "            # Select emoji based on predicted emotion\n",
        "            if predicted_emotion == 0:  # Angry\n",
        "                emoji_overlay = emoji_angry\n",
        "            elif predicted_emotion == 1:  # Disgusted\n",
        "                emoji_overlay = emoji_disgusted\n",
        "            elif predicted_emotion == 2:  # Fearful\n",
        "                emoji_overlay = emoji_fearful\n",
        "            elif predicted_emotion == 3:  # Happy\n",
        "                emoji_overlay = emoji_happy\n",
        "            elif predicted_emotion == 4:  # Neutral\n",
        "                emoji_overlay = emoji_neutral\n",
        "            elif predicted_emotion == 5:  # Sad\n",
        "                emoji_overlay = emoji_sad\n",
        "            elif predicted_emotion == 6:  # Surprised\n",
        "                emoji_overlay = emoji_surprised\n",
        "\n",
        "            emoji_resized = cv2.resize(emoji_overlay, (w, h))\n",
        "\n",
        "            for i in range(h):\n",
        "                for j in range(w):\n",
        "                    if emoji_resized[i, j, 3] != 0:\n",
        "                        frame[y + i, x + j] = emoji_resized[i, j, 0:3]\n",
        "\n",
        "        # Convert the frame to HTML\n",
        "        _, buffer = cv2.imencode('.jpg', frame)\n",
        "        frame_html = img_tag.format(base64.b64encode(buffer).decode(), video_width, video_height)\n",
        "\n",
        "        # Display the frame using HTML\n",
        "        display(HTML(frame_html))\n",
        "\n",
        "# Start processing the webcam feed\n",
        "process_webcam_frame(emoji_happy, model)  # Pass the appropriate emoji and model\n"
      ]
    },
    {
      "cell_type": "code",
      "execution_count": null,
      "metadata": {
        "id": "C8CZVbUmpNjK"
      },
      "outputs": [],
      "source": []
    }
  ],
  "metadata": {
    "accelerator": "GPU",
    "colab": {
      "provenance": [],
      "authorship_tag": "ABX9TyPqrQflvrokTtdvmABHoWGc",
      "include_colab_link": true
    },
    "kernelspec": {
      "display_name": "Python 3",
      "name": "python3"
    },
    "language_info": {
      "name": "python"
    }
  },
  "nbformat": 4,
  "nbformat_minor": 0
}