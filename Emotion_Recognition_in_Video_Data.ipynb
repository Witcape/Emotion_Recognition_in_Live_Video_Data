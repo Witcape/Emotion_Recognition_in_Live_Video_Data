{
  "nbformat": 4,
  "nbformat_minor": 0,
  "metadata": {
    "colab": {
      "provenance": [],
      "authorship_tag": "ABX9TyMarV56xtF+kirN93/87nro",
      "include_colab_link": true
    },
    "kernelspec": {
      "name": "python3",
      "display_name": "Python 3"
    },
    "language_info": {
      "name": "python"
    }
  },
  "cells": [
    {
      "cell_type": "markdown",
      "metadata": {
        "id": "view-in-github",
        "colab_type": "text"
      },
      "source": [
        "<a href=\"https://colab.research.google.com/github/Witcape/Emotion_Recognition_in_Live_Video_Data/blob/main/Emotion_Recognition_in_Video_Data.ipynb\" target=\"_parent\"><img src=\"https://colab.research.google.com/assets/colab-badge.svg\" alt=\"Open In Colab\"/></a>"
      ]
    },
    {
      "cell_type": "code",
      "execution_count": 1,
      "metadata": {
        "id": "HsNtUV7wy2_X"
      },
      "outputs": [],
      "source": [
        "#Importing all the required libraries\n",
        "from sympy import *\n",
        "import numpy as np\n",
        "import matplotlib.pyplot as plt\n",
        "import ipywidgets as widgets\n",
        "import sklearn\n",
        "import tensorflow as tf\n",
        "import pandas as pd\n",
        "import sklearn\n",
        "from tensorflow.keras.models import Sequential\n",
        "from tensorflow.keras.layers import Dense\n",
        "from tensorflow.keras.activations import linear,relu,sigmoid\n",
        "import cv2\n",
        "import os\n",
        "from sklearn.preprocessing import LabelEncoder, OneHotEncoder"
      ]
    },
    {
      "cell_type": "code",
      "source": [
        "model = Sequential(\n",
        "    [\n",
        "        tf.keras.Input(shape = (5,)),\n",
        "        Dense(25, activation = 'relu'),\n",
        "        Dense(10, activation = 'relu'),\n",
        "        Dense(1, activation = 'linear')\n",
        "    ]\n",
        ")\n"
      ],
      "metadata": {
        "id": "VlYHRmbIlENp"
      },
      "execution_count": null,
      "outputs": []
    },
    {
      "cell_type": "code",
      "source": [
        "loss = history.history['loss']\n",
        "epochs = range(1, len(loss) + 1)\n",
        "\n",
        "plt.plot(epochs, loss, label='Training Loss')\n",
        "plt.xlabel('Epochs')\n",
        "plt.ylabel('Loss')\n",
        "plt.legend()\n",
        "plt.show()"
      ],
      "metadata": {
        "colab": {
          "base_uri": "https://localhost:8080/",
          "height": 449
        },
        "id": "8rLSeQYHTVPz",
        "outputId": "5e2a768e-29fb-40b4-9d58-1d79c59df388"
      },
      "execution_count": null,
      "outputs": [
        {
          "output_type": "display_data",
          "data": {
            "text/plain": [
              "<Figure size 640x480 with 1 Axes>"
            ],
            "image/png": "[encoded data removed]"
          },
          "metadata": {}
        }
      ]
    },
    {
      "cell_type": "code",
      "source": [
        "train_data_directory = '/content/gdrive/MyDrive/Human emotions/train'\n",
        "test_data_directory = '/content/gdrive/MyDrive/Human emotions/test'"
      ],
      "metadata": {
        "id": "RMbgzI2Uk-cj"
      },
      "execution_count": null,
      "outputs": []
    },
    {
      "cell_type": "code",
      "source": [
        "def load_and_preprocess_images(directory):\n",
        "    images = []\n",
        "    labels = []\n",
        "    for emotion_label in os.listdir(directory):\n",
        "        emotion_dir = os.path.join(directory, emotion_label)\n",
        "        for image_file in os.listdir(emotion_dir):\n",
        "            image_path = os.path.join(emotion_dir, image_file)\n",
        "            img = cv2.imread(image_path)\n",
        "            img = cv2.cvtColor(img, cv2.COLOR_BGR2RGB)\n",
        "            img = cv2.resize(img, (224, 224))\n",
        "            images.append(img)\n",
        "            labels.append(emotion_label)\n",
        "    images = np.array(images)\n",
        "    labels = np.array(labels)\n",
        "    images = images / 255.0\n",
        "\n",
        "    label_encoder = LabelEncoder()\n",
        "    integer_labels = label_encoder.fit_transform(labels)\n",
        "    onehot_encoder = OneHotEncoder(sparse=False)\n",
        "    onehot_labels = onehot_encoder.fit_transform(integer_labels.reshape(-1, 1))\n",
        "\n",
        "    return images, onehot_labels\n",
        "\n",
        "X_train, y_train = load_and_preprocess_images(train_data_directory)\n",
        "\n",
        "X_test, y_test = load_and_preprocess_images(test_data_directory)\n",
        "\n",
        "print(\"X_train shape:\", X_train.shape)\n",
        "print(\"y_train shape:\", y_train.shape)\n",
        "print(\"X_test shape:\", X_test.shape)\n",
        "print(\"y_test shape:\", y_test.shape)\n"
      ],
      "metadata": {
        "id": "22Emlks6lZ5H"
      },
      "execution_count": null,
      "outputs": []
    },
    {
      "cell_type": "code",
      "source": [
        "from google.colab import drive\n",
        "drive.mount('/content/gdrive')"
      ],
      "metadata": {
        "id": "5aLgwauVTsBV",
        "colab": {
          "base_uri": "https://localhost:8080/"
        },
        "outputId": "5ead0673-ad53-4fd1-8d88-242ee4738332"
      },
      "execution_count": 2,
      "outputs": [
        {
          "output_type": "stream",
          "name": "stdout",
          "text": [
            "Mounted at /content/gdrive\n"
          ]
        }
      ]
    },
    {
      "cell_type": "markdown",
      "source": [
        "Using **tf.keras.utils.image_dataset_from_directory** italicised textinstead of manually segregating labels and images"
      ],
      "metadata": {
        "id": "8avWsWVYHQbr"
      }
    },
    {
      "cell_type": "code",
      "source": [
        "train_data_dir = '/content/gdrive/MyDrive/Human emotions/train'\n",
        "test_data_dir = '/content/gdrive/MyDrive/Human emotions/test'"
      ],
      "metadata": {
        "id": "FtdQSKfJHTy9"
      },
      "execution_count": 25,
      "outputs": []
    },
    {
      "cell_type": "code",
      "source": [
        "train_data = tf.keras.utils.image_dataset_from_directory(train_data_dir)\n",
        "test_data = tf.keras.utils.image_dataset_from_directory(test_data_dir)"
      ],
      "metadata": {
        "colab": {
          "base_uri": "https://localhost:8080/"
        },
        "id": "KckQ2LmfIFBQ",
        "outputId": "6d93e2a3-964e-4f01-e1ab-f6c465beb70b"
      },
      "execution_count": 41,
      "outputs": [
        {
          "output_type": "stream",
          "name": "stdout",
          "text": [
            "Found 29031 files belonging to 7 classes.\n",
            "Found 7378 files belonging to 7 classes.\n"
          ]
        }
      ]
    },
    {
      "cell_type": "code",
      "source": [
        "train_data_iterator = train_data.as_numpy_iterator()\n",
        "test_data_iterator = test_data.as_numpy_iterator()"
      ],
      "metadata": {
        "id": "7c0SXHPrLD-3"
      },
      "execution_count": 42,
      "outputs": []
    },
    {
      "cell_type": "code",
      "source": [
        "train_batch = train_data_iterator.next()\n",
        "test_batch = test_data_iterator.next()"
      ],
      "metadata": {
        "id": "xF513W62MMSu"
      },
      "execution_count": 43,
      "outputs": []
    },
    {
      "cell_type": "code",
      "source": [
        "test_batch"
      ],
      "metadata": {
        "colab": {
          "base_uri": "https://localhost:8080/"
        },
        "id": "gC0T16qwMVRx",
        "outputId": "c5c6c051-dd15-4a80-f2df-82af1c10933a"
      },
      "execution_count": 44,
      "outputs": [
        {
          "output_type": "execute_result",
          "data": {
            "text/plain": [
              "(array([[[[247., 247., 247.],\n",
              "          [247., 247., 247.],\n",
              "          [247., 247., 247.],\n",
              "          ...,\n",
              "          [245., 245., 245.],\n",
              "          [245., 245., 245.],\n",
              "          [245., 245., 245.]],\n",
              " \n",
              "         [[247., 247., 247.],\n",
              "          [247., 247., 247.],\n",
              "          [247., 247., 247.],\n",
              "          ...,\n",
              "          [245., 245., 245.],\n",
              "          [245., 245., 245.],\n",
              "          [245., 245., 245.]],\n",
              " \n",
              "         [[247., 247., 247.],\n",
              "          [247., 247., 247.],\n",
              "          [247., 247., 247.],\n",
              "          ...,\n",
              "          [245., 245., 245.],\n",
              "          [245., 245., 245.],\n",
              "          [245., 245., 245.]],\n",
              " \n",
              "         ...,\n",
              " \n",
              "         [[ 17.,  17.,  17.],\n",
              "          [ 17.,  17.,  17.],\n",
              "          [ 17.,  17.,  17.],\n",
              "          ...,\n",
              "          [ 20.,  20.,  20.],\n",
              "          [ 20.,  20.,  20.],\n",
              "          [ 20.,  20.,  20.]],\n",
              " \n",
              "         [[ 17.,  17.,  17.],\n",
              "          [ 17.,  17.,  17.],\n",
              "          [ 17.,  17.,  17.],\n",
              "          ...,\n",
              "          [ 20.,  20.,  20.],\n",
              "          [ 20.,  20.,  20.],\n",
              "          [ 20.,  20.,  20.]],\n",
              " \n",
              "         [[ 17.,  17.,  17.],\n",
              "          [ 17.,  17.,  17.],\n",
              "          [ 17.,  17.,  17.],\n",
              "          ...,\n",
              "          [ 20.,  20.,  20.],\n",
              "          [ 20.,  20.,  20.],\n",
              "          [ 20.,  20.,  20.]]],\n",
              " \n",
              " \n",
              "        [[[164., 164., 164.],\n",
              "          [164., 164., 164.],\n",
              "          [164., 164., 164.],\n",
              "          ...,\n",
              "          [ 96.,  96.,  96.],\n",
              "          [ 96.,  96.,  96.],\n",
              "          [ 96.,  96.,  96.]],\n",
              " \n",
              "         [[164., 164., 164.],\n",
              "          [164., 164., 164.],\n",
              "          [164., 164., 164.],\n",
              "          ...,\n",
              "          [ 96.,  96.,  96.],\n",
              "          [ 96.,  96.,  96.],\n",
              "          [ 96.,  96.,  96.]],\n",
              " \n",
              "         [[164., 164., 164.],\n",
              "          [164., 164., 164.],\n",
              "          [164., 164., 164.],\n",
              "          ...,\n",
              "          [ 96.,  96.,  96.],\n",
              "          [ 96.,  96.,  96.],\n",
              "          [ 96.,  96.,  96.]],\n",
              " \n",
              "         ...,\n",
              " \n",
              "         [[255., 255., 255.],\n",
              "          [255., 255., 255.],\n",
              "          [255., 255., 255.],\n",
              "          ...,\n",
              "          [211., 211., 211.],\n",
              "          [211., 211., 211.],\n",
              "          [211., 211., 211.]],\n",
              " \n",
              "         [[255., 255., 255.],\n",
              "          [255., 255., 255.],\n",
              "          [255., 255., 255.],\n",
              "          ...,\n",
              "          [211., 211., 211.],\n",
              "          [211., 211., 211.],\n",
              "          [211., 211., 211.]],\n",
              " \n",
              "         [[255., 255., 255.],\n",
              "          [255., 255., 255.],\n",
              "          [255., 255., 255.],\n",
              "          ...,\n",
              "          [211., 211., 211.],\n",
              "          [211., 211., 211.],\n",
              "          [211., 211., 211.]]],\n",
              " \n",
              " \n",
              "        [[[149., 149., 149.],\n",
              "          [149., 149., 149.],\n",
              "          [149., 149., 149.],\n",
              "          ...,\n",
              "          [ 65.,  65.,  65.],\n",
              "          [ 65.,  65.,  65.],\n",
              "          [ 65.,  65.,  65.]],\n",
              " \n",
              "         [[149., 149., 149.],\n",
              "          [149., 149., 149.],\n",
              "          [149., 149., 149.],\n",
              "          ...,\n",
              "          [ 65.,  65.,  65.],\n",
              "          [ 65.,  65.,  65.],\n",
              "          [ 65.,  65.,  65.]],\n",
              " \n",
              "         [[149., 149., 149.],\n",
              "          [149., 149., 149.],\n",
              "          [149., 149., 149.],\n",
              "          ...,\n",
              "          [ 65.,  65.,  65.],\n",
              "          [ 65.,  65.,  65.],\n",
              "          [ 65.,  65.,  65.]],\n",
              " \n",
              "         ...,\n",
              " \n",
              "         [[139., 139., 139.],\n",
              "          [139., 139., 139.],\n",
              "          [139., 139., 139.],\n",
              "          ...,\n",
              "          [204., 204., 204.],\n",
              "          [204., 204., 204.],\n",
              "          [204., 204., 204.]],\n",
              " \n",
              "         [[139., 139., 139.],\n",
              "          [139., 139., 139.],\n",
              "          [139., 139., 139.],\n",
              "          ...,\n",
              "          [204., 204., 204.],\n",
              "          [204., 204., 204.],\n",
              "          [204., 204., 204.]],\n",
              " \n",
              "         [[139., 139., 139.],\n",
              "          [139., 139., 139.],\n",
              "          [139., 139., 139.],\n",
              "          ...,\n",
              "          [204., 204., 204.],\n",
              "          [204., 204., 204.],\n",
              "          [204., 204., 204.]]],\n",
              " \n",
              " \n",
              "        ...,\n",
              " \n",
              " \n",
              "        [[[110., 110., 110.],\n",
              "          [110., 110., 110.],\n",
              "          [110., 110., 110.],\n",
              "          ...,\n",
              "          [ 74.,  74.,  74.],\n",
              "          [ 74.,  74.,  74.],\n",
              "          [ 74.,  74.,  74.]],\n",
              " \n",
              "         [[110., 110., 110.],\n",
              "          [110., 110., 110.],\n",
              "          [110., 110., 110.],\n",
              "          ...,\n",
              "          [ 74.,  74.,  74.],\n",
              "          [ 74.,  74.,  74.],\n",
              "          [ 74.,  74.,  74.]],\n",
              " \n",
              "         [[110., 110., 110.],\n",
              "          [110., 110., 110.],\n",
              "          [110., 110., 110.],\n",
              "          ...,\n",
              "          [ 74.,  74.,  74.],\n",
              "          [ 74.,  74.,  74.],\n",
              "          [ 74.,  74.,  74.]],\n",
              " \n",
              "         ...,\n",
              " \n",
              "         [[ 40.,  40.,  40.],\n",
              "          [ 40.,  40.,  40.],\n",
              "          [ 40.,  40.,  40.],\n",
              "          ...,\n",
              "          [ 16.,  16.,  16.],\n",
              "          [ 16.,  16.,  16.],\n",
              "          [ 16.,  16.,  16.]],\n",
              " \n",
              "         [[ 40.,  40.,  40.],\n",
              "          [ 40.,  40.,  40.],\n",
              "          [ 40.,  40.,  40.],\n",
              "          ...,\n",
              "          [ 16.,  16.,  16.],\n",
              "          [ 16.,  16.,  16.],\n",
              "          [ 16.,  16.,  16.]],\n",
              " \n",
              "         [[ 40.,  40.,  40.],\n",
              "          [ 40.,  40.,  40.],\n",
              "          [ 40.,  40.,  40.],\n",
              "          ...,\n",
              "          [ 16.,  16.,  16.],\n",
              "          [ 16.,  16.,  16.],\n",
              "          [ 16.,  16.,  16.]]],\n",
              " \n",
              " \n",
              "        [[[109., 109., 109.],\n",
              "          [109., 109., 109.],\n",
              "          [109., 109., 109.],\n",
              "          ...,\n",
              "          [ 83.,  83.,  83.],\n",
              "          [ 83.,  83.,  83.],\n",
              "          [ 83.,  83.,  83.]],\n",
              " \n",
              "         [[109., 109., 109.],\n",
              "          [109., 109., 109.],\n",
              "          [109., 109., 109.],\n",
              "          ...,\n",
              "          [ 83.,  83.,  83.],\n",
              "          [ 83.,  83.,  83.],\n",
              "          [ 83.,  83.,  83.]],\n",
              " \n",
              "         [[109., 109., 109.],\n",
              "          [109., 109., 109.],\n",
              "          [109., 109., 109.],\n",
              "          ...,\n",
              "          [ 83.,  83.,  83.],\n",
              "          [ 83.,  83.,  83.],\n",
              "          [ 83.,  83.,  83.]],\n",
              " \n",
              "         ...,\n",
              " \n",
              "         [[ 75.,  75.,  75.],\n",
              "          [ 75.,  75.,  75.],\n",
              "          [ 75.,  75.,  75.],\n",
              "          ...,\n",
              "          [162., 162., 162.],\n",
              "          [162., 162., 162.],\n",
              "          [162., 162., 162.]],\n",
              " \n",
              "         [[ 75.,  75.,  75.],\n",
              "          [ 75.,  75.,  75.],\n",
              "          [ 75.,  75.,  75.],\n",
              "          ...,\n",
              "          [162., 162., 162.],\n",
              "          [162., 162., 162.],\n",
              "          [162., 162., 162.]],\n",
              " \n",
              "         [[ 75.,  75.,  75.],\n",
              "          [ 75.,  75.,  75.],\n",
              "          [ 75.,  75.,  75.],\n",
              "          ...,\n",
              "          [162., 162., 162.],\n",
              "          [162., 162., 162.],\n",
              "          [162., 162., 162.]]],\n",
              " \n",
              " \n",
              "        [[[255., 255., 255.],\n",
              "          [255., 255., 255.],\n",
              "          [255., 255., 255.],\n",
              "          ...,\n",
              "          [151., 151., 151.],\n",
              "          [151., 151., 151.],\n",
              "          [151., 151., 151.]],\n",
              " \n",
              "         [[255., 255., 255.],\n",
              "          [255., 255., 255.],\n",
              "          [255., 255., 255.],\n",
              "          ...,\n",
              "          [151., 151., 151.],\n",
              "          [151., 151., 151.],\n",
              "          [151., 151., 151.]],\n",
              " \n",
              "         [[255., 255., 255.],\n",
              "          [255., 255., 255.],\n",
              "          [255., 255., 255.],\n",
              "          ...,\n",
              "          [151., 151., 151.],\n",
              "          [151., 151., 151.],\n",
              "          [151., 151., 151.]],\n",
              " \n",
              "         ...,\n",
              " \n",
              "         [[ 64.,  64.,  64.],\n",
              "          [ 64.,  64.,  64.],\n",
              "          [ 64.,  64.,  64.],\n",
              "          ...,\n",
              "          [ 38.,  38.,  38.],\n",
              "          [ 38.,  38.,  38.],\n",
              "          [ 38.,  38.,  38.]],\n",
              " \n",
              "         [[ 64.,  64.,  64.],\n",
              "          [ 64.,  64.,  64.],\n",
              "          [ 64.,  64.,  64.],\n",
              "          ...,\n",
              "          [ 38.,  38.,  38.],\n",
              "          [ 38.,  38.,  38.],\n",
              "          [ 38.,  38.,  38.]],\n",
              " \n",
              "         [[ 64.,  64.,  64.],\n",
              "          [ 64.,  64.,  64.],\n",
              "          [ 64.,  64.,  64.],\n",
              "          ...,\n",
              "          [ 38.,  38.,  38.],\n",
              "          [ 38.,  38.,  38.],\n",
              "          [ 38.,  38.,  38.]]]], dtype=float32),\n",
              " array([2, 5, 6, 5, 2, 5, 2, 0, 0, 0, 5, 3, 4, 5, 4, 2, 2, 2, 4, 2, 3, 0,\n",
              "        2, 0, 3, 3, 4, 0, 3, 4, 2, 4], dtype=int32))"
            ]
          },
          "metadata": {},
          "execution_count": 44
        }
      ]
    },
    {
      "cell_type": "code",
      "source": [
        "len(test_batch)"
      ],
      "metadata": {
        "colab": {
          "base_uri": "https://localhost:8080/"
        },
        "id": "N9nCM-blMnko",
        "outputId": "0060c005-807d-41eb-8afc-d7ababdd3f7a"
      },
      "execution_count": 45,
      "outputs": [
        {
          "output_type": "execute_result",
          "data": {
            "text/plain": [
              "2"
            ]
          },
          "metadata": {},
          "execution_count": 45
        }
      ]
    },
    {
      "cell_type": "code",
      "source": [
        "train_batch[0].shape"
      ],
      "metadata": {
        "colab": {
          "base_uri": "https://localhost:8080/"
        },
        "id": "b6lA6tY8MyfE",
        "outputId": "f19a1ddd-6fae-4829-e6b2-b759b5d32b84"
      },
      "execution_count": 46,
      "outputs": [
        {
          "output_type": "execute_result",
          "data": {
            "text/plain": [
              "(32, 256, 256, 3)"
            ]
          },
          "metadata": {},
          "execution_count": 46
        }
      ]
    },
    {
      "cell_type": "code",
      "source": [
        "train_data = train_data.map(lambda x,y: (x/255,y))\n",
        "test_data = test_data.map(lambda x,y: (x/255,y))"
      ],
      "metadata": {
        "id": "vh42QIqDQbJI"
      },
      "execution_count": 47,
      "outputs": []
    },
    {
      "cell_type": "code",
      "source": [
        "scaled_train_iterator = train_data.as_numpy_iterator()\n",
        "scaled_test_iterator = test_data.as_numpy_iterator()\n",
        "train_batch = scaled_train_iterator.next()\n",
        "test_batch = scaled_test_iterator.next()\n",
        "test_batch[0].max()"
      ],
      "metadata": {
        "colab": {
          "base_uri": "https://localhost:8080/"
        },
        "id": "B3IEe24mYzTL",
        "outputId": "b1c27329-2274-43af-92f0-3280a72d3168"
      },
      "execution_count": 63,
      "outputs": [
        {
          "output_type": "execute_result",
          "data": {
            "text/plain": [
              "1.0"
            ]
          },
          "metadata": {},
          "execution_count": 63
        }
      ]
    },
    {
      "cell_type": "code",
      "source": [
        "len(train_data)"
      ],
      "metadata": {
        "colab": {
          "base_uri": "https://localhost:8080/"
        },
        "id": "qbe0M2zrUdtV",
        "outputId": "292e298a-f9d8-4071-abb9-470b3525816c"
      },
      "execution_count": 64,
      "outputs": [
        {
          "output_type": "execute_result",
          "data": {
            "text/plain": [
              "908"
            ]
          },
          "metadata": {},
          "execution_count": 64
        }
      ]
    },
    {
      "cell_type": "code",
      "source": [
        "train_size = int(len(train_data)*0.8)\n",
        "val_size = int(len(train_data)*0.2)+1\n",
        "test_size = len(test_data)\n",
        "print(train_size , val_size)"
      ],
      "metadata": {
        "colab": {
          "base_uri": "https://localhost:8080/"
        },
        "id": "ptqVzmRhWO70",
        "outputId": "8bd8e074-6699-42ce-c69c-a78cb6601096"
      },
      "execution_count": 65,
      "outputs": [
        {
          "output_type": "stream",
          "name": "stdout",
          "text": [
            "726 182\n"
          ]
        }
      ]
    },
    {
      "cell_type": "code",
      "source": [
        "train = train_data.take(train_size)\n",
        "val = train_data.skip(train_size).take(val_size)\n",
        "test = test_data.take(test_size)"
      ],
      "metadata": {
        "id": "xP_HrdN4X0TF"
      },
      "execution_count": 66,
      "outputs": []
    },
    {
      "cell_type": "code",
      "source": [
        "print(len(train),len(val),len(test))"
      ],
      "metadata": {
        "colab": {
          "base_uri": "https://localhost:8080/"
        },
        "id": "XjyWT-jYYOyO",
        "outputId": "b2fbca1e-9cd5-480b-f016-cb17a52d18f2"
      },
      "execution_count": 67,
      "outputs": [
        {
          "output_type": "stream",
          "name": "stdout",
          "text": [
            "726 182 231\n"
          ]
        }
      ]
    },
    {
      "cell_type": "code",
      "source": [],
      "metadata": {
        "id": "YiJVVq2fYn3G"
      },
      "execution_count": null,
      "outputs": []
    }
  ]
}